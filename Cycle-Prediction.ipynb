{
 "cells": [
  {
   "cell_type": "code",
   "execution_count": 1,
   "id": "3d8ffa7b-e1d3-4177-a767-a5fe4a204aa3",
   "metadata": {},
   "outputs": [],
   "source": [
    "import os\n",
    "import numpy as np\n",
    "import pandas as pd\n",
    "import seaborn as sns\n",
    "import matplotlib.cm as cm\n",
    "import matplotlib.pyplot as plt\n",
    "from sklearn.preprocessing import StandardScaler\n",
    "from sklearn import metrics\n",
    "import warnings\n",
    "warnings.filterwarnings('ignore')\n",
    "warnings.filterwarnings(\"ignore\", message=\"subprocess.run\")"
   ]
  },
  {
   "cell_type": "code",
   "execution_count": 2,
   "id": "4f76442a-a87a-40cf-afb2-d17f68afa6a5",
   "metadata": {},
   "outputs": [
    {
     "data": {
      "text/html": [
       "<div>\n",
       "<style scoped>\n",
       "    .dataframe tbody tr th:only-of-type {\n",
       "        vertical-align: middle;\n",
       "    }\n",
       "\n",
       "    .dataframe tbody tr th {\n",
       "        vertical-align: top;\n",
       "    }\n",
       "\n",
       "    .dataframe thead th {\n",
       "        text-align: right;\n",
       "    }\n",
       "</style>\n",
       "<table border=\"1\" class=\"dataframe\">\n",
       "  <thead>\n",
       "    <tr style=\"text-align: right;\">\n",
       "      <th></th>\n",
       "      <th>ClientID</th>\n",
       "      <th>CycleNumber</th>\n",
       "      <th>Group</th>\n",
       "      <th>CycleWithPeakorNot</th>\n",
       "      <th>ReproductiveCategory</th>\n",
       "      <th>LengthofCycle</th>\n",
       "      <th>MeanCycleLength</th>\n",
       "      <th>EstimatedDayofOvulation</th>\n",
       "      <th>LengthofLutealPhase</th>\n",
       "      <th>FirstDayofHigh</th>\n",
       "      <th>...</th>\n",
       "      <th>Method</th>\n",
       "      <th>Prevmethod</th>\n",
       "      <th>Methoddate</th>\n",
       "      <th>Whychart</th>\n",
       "      <th>Nextpreg</th>\n",
       "      <th>NextpregM</th>\n",
       "      <th>Spousesame</th>\n",
       "      <th>SpousesameM</th>\n",
       "      <th>Timeattemptpreg</th>\n",
       "      <th>BMI</th>\n",
       "    </tr>\n",
       "  </thead>\n",
       "  <tbody>\n",
       "    <tr>\n",
       "      <th>655</th>\n",
       "      <td>nfp8150</td>\n",
       "      <td>9</td>\n",
       "      <td>0</td>\n",
       "      <td>1</td>\n",
       "      <td>0</td>\n",
       "      <td>26</td>\n",
       "      <td></td>\n",
       "      <td>14</td>\n",
       "      <td>12</td>\n",
       "      <td>12</td>\n",
       "      <td>...</td>\n",
       "      <td></td>\n",
       "      <td></td>\n",
       "      <td></td>\n",
       "      <td></td>\n",
       "      <td></td>\n",
       "      <td></td>\n",
       "      <td></td>\n",
       "      <td></td>\n",
       "      <td></td>\n",
       "      <td></td>\n",
       "    </tr>\n",
       "    <tr>\n",
       "      <th>825</th>\n",
       "      <td>nfp8174</td>\n",
       "      <td>15</td>\n",
       "      <td>0</td>\n",
       "      <td>1</td>\n",
       "      <td>0</td>\n",
       "      <td>27</td>\n",
       "      <td></td>\n",
       "      <td>14</td>\n",
       "      <td>13</td>\n",
       "      <td></td>\n",
       "      <td>...</td>\n",
       "      <td></td>\n",
       "      <td></td>\n",
       "      <td></td>\n",
       "      <td></td>\n",
       "      <td></td>\n",
       "      <td></td>\n",
       "      <td></td>\n",
       "      <td></td>\n",
       "      <td></td>\n",
       "      <td></td>\n",
       "    </tr>\n",
       "    <tr>\n",
       "      <th>1182</th>\n",
       "      <td>nfp8257</td>\n",
       "      <td>12</td>\n",
       "      <td>0</td>\n",
       "      <td>1</td>\n",
       "      <td>0</td>\n",
       "      <td>28</td>\n",
       "      <td></td>\n",
       "      <td>15</td>\n",
       "      <td>13</td>\n",
       "      <td></td>\n",
       "      <td>...</td>\n",
       "      <td></td>\n",
       "      <td></td>\n",
       "      <td></td>\n",
       "      <td></td>\n",
       "      <td></td>\n",
       "      <td></td>\n",
       "      <td></td>\n",
       "      <td></td>\n",
       "      <td></td>\n",
       "      <td></td>\n",
       "    </tr>\n",
       "    <tr>\n",
       "      <th>443</th>\n",
       "      <td>nfp8094</td>\n",
       "      <td>10</td>\n",
       "      <td>0</td>\n",
       "      <td>1</td>\n",
       "      <td>0</td>\n",
       "      <td>26</td>\n",
       "      <td></td>\n",
       "      <td>14</td>\n",
       "      <td>12</td>\n",
       "      <td>12</td>\n",
       "      <td>...</td>\n",
       "      <td></td>\n",
       "      <td></td>\n",
       "      <td></td>\n",
       "      <td></td>\n",
       "      <td></td>\n",
       "      <td></td>\n",
       "      <td></td>\n",
       "      <td></td>\n",
       "      <td></td>\n",
       "      <td></td>\n",
       "    </tr>\n",
       "    <tr>\n",
       "      <th>317</th>\n",
       "      <td>nfp8068</td>\n",
       "      <td>12</td>\n",
       "      <td>0</td>\n",
       "      <td>1</td>\n",
       "      <td>0</td>\n",
       "      <td>24</td>\n",
       "      <td></td>\n",
       "      <td>12</td>\n",
       "      <td>12</td>\n",
       "      <td>10</td>\n",
       "      <td>...</td>\n",
       "      <td></td>\n",
       "      <td></td>\n",
       "      <td></td>\n",
       "      <td></td>\n",
       "      <td></td>\n",
       "      <td></td>\n",
       "      <td></td>\n",
       "      <td></td>\n",
       "      <td></td>\n",
       "      <td></td>\n",
       "    </tr>\n",
       "  </tbody>\n",
       "</table>\n",
       "<p>5 rows × 80 columns</p>\n",
       "</div>"
      ],
      "text/plain": [
       "     ClientID  CycleNumber  Group  CycleWithPeakorNot  ReproductiveCategory  \\\n",
       "655   nfp8150            9      0                   1                     0   \n",
       "825   nfp8174           15      0                   1                     0   \n",
       "1182  nfp8257           12      0                   1                     0   \n",
       "443   nfp8094           10      0                   1                     0   \n",
       "317   nfp8068           12      0                   1                     0   \n",
       "\n",
       "      LengthofCycle MeanCycleLength EstimatedDayofOvulation  \\\n",
       "655              26                                      14   \n",
       "825              27                                      14   \n",
       "1182             28                                      15   \n",
       "443              26                                      14   \n",
       "317              24                                      12   \n",
       "\n",
       "     LengthofLutealPhase FirstDayofHigh  ... Method Prevmethod Methoddate  \\\n",
       "655                   12             12  ...                                \n",
       "825                   13                 ...                                \n",
       "1182                  13                 ...                                \n",
       "443                   12             12  ...                                \n",
       "317                   12             10  ...                                \n",
       "\n",
       "     Whychart Nextpreg NextpregM Spousesame SpousesameM Timeattemptpreg BMI  \n",
       "655                                                                          \n",
       "825                                                                          \n",
       "1182                                                                         \n",
       "443                                                                          \n",
       "317                                                                          \n",
       "\n",
       "[5 rows x 80 columns]"
      ]
     },
     "execution_count": 2,
     "metadata": {},
     "output_type": "execute_result"
    }
   ],
   "source": [
    "df = pd.read_csv(\"data/FedCycleData.csv\")\n",
    "df.sample(5)"
   ]
  },
  {
   "cell_type": "code",
   "execution_count": 3,
   "id": "fc9b25d5-74d6-4a32-83ef-cbdbe44a5ac3",
   "metadata": {},
   "outputs": [
    {
     "name": "stdout",
     "output_type": "stream",
     "text": [
      "<class 'pandas.core.frame.DataFrame'>\n",
      "RangeIndex: 1665 entries, 0 to 1664\n",
      "Data columns (total 80 columns):\n",
      " #   Column                      Non-Null Count  Dtype \n",
      "---  ------                      --------------  ----- \n",
      " 0   ClientID                    1665 non-null   object\n",
      " 1   CycleNumber                 1665 non-null   int64 \n",
      " 2   Group                       1665 non-null   int64 \n",
      " 3   CycleWithPeakorNot          1665 non-null   int64 \n",
      " 4   ReproductiveCategory        1665 non-null   int64 \n",
      " 5   LengthofCycle               1665 non-null   int64 \n",
      " 6   MeanCycleLength             1665 non-null   object\n",
      " 7   EstimatedDayofOvulation     1665 non-null   object\n",
      " 8   LengthofLutealPhase         1665 non-null   object\n",
      " 9   FirstDayofHigh              1665 non-null   object\n",
      " 10  TotalNumberofHighDays       1665 non-null   object\n",
      " 11  TotalHighPostPeak           1665 non-null   object\n",
      " 12  TotalNumberofPeakDays       1665 non-null   object\n",
      " 13  TotalDaysofFertility        1665 non-null   object\n",
      " 14  TotalFertilityFormula       1665 non-null   object\n",
      " 15  LengthofMenses              1665 non-null   object\n",
      " 16  MeanMensesLength            1665 non-null   object\n",
      " 17  MensesScoreDayOne           1665 non-null   object\n",
      " 18  MensesScoreDayTwo           1665 non-null   object\n",
      " 19  MensesScoreDayThree         1665 non-null   object\n",
      " 20  MensesScoreDayFour          1665 non-null   object\n",
      " 21  MensesScoreDayFive          1665 non-null   object\n",
      " 22  MensesScoreDaySix           1665 non-null   object\n",
      " 23  MensesScoreDaySeven         1665 non-null   object\n",
      " 24  MensesScoreDayEight         1665 non-null   object\n",
      " 25  MensesScoreDayNine          1665 non-null   object\n",
      " 26  MensesScoreDayTen           1665 non-null   object\n",
      " 27  MensesScoreDay11            1665 non-null   object\n",
      " 28  MensesScoreDay12            1665 non-null   object\n",
      " 29  MensesScoreDay13            1665 non-null   object\n",
      " 30  MensesScoreDay14            1665 non-null   object\n",
      " 31  MensesScoreDay15            1665 non-null   object\n",
      " 32  TotalMensesScore            1665 non-null   object\n",
      " 33  MeanBleedingIntensity       1665 non-null   object\n",
      " 34  NumberofDaysofIntercourse   1665 non-null   object\n",
      " 35  IntercourseInFertileWindow  1665 non-null   object\n",
      " 36  UnusualBleeding             1665 non-null   object\n",
      " 37  PhasesBleeding              1665 non-null   object\n",
      " 38  IntercourseDuringUnusBleed  1665 non-null   object\n",
      " 39  Age                         1665 non-null   object\n",
      " 40  AgeM                        1665 non-null   object\n",
      " 41  Maristatus                  1665 non-null   object\n",
      " 42  MaristatusM                 1665 non-null   object\n",
      " 43  Yearsmarried                1665 non-null   object\n",
      " 44  Wedding                     1665 non-null   object\n",
      " 45  Religion                    1665 non-null   object\n",
      " 46  ReligionM                   1665 non-null   object\n",
      " 47  Ethnicity                   1665 non-null   object\n",
      " 48  EthnicityM                  1665 non-null   object\n",
      " 49  Schoolyears                 1665 non-null   object\n",
      " 50  SchoolyearsM                1665 non-null   object\n",
      " 51  OccupationM                 1665 non-null   object\n",
      " 52  IncomeM                     1665 non-null   object\n",
      " 53  Height                      1665 non-null   object\n",
      " 54  Weight                      1665 non-null   object\n",
      " 55  Reprocate                   1665 non-null   object\n",
      " 56  Numberpreg                  1665 non-null   object\n",
      " 57  Livingkids                  1665 non-null   object\n",
      " 58  Miscarriages                1665 non-null   object\n",
      " 59  Abortions                   1665 non-null   object\n",
      " 60  Medvits                     1665 non-null   object\n",
      " 61  Medvitexplain               1665 non-null   object\n",
      " 62  Gynosurgeries               1665 non-null   object\n",
      " 63  LivingkidsM                 1665 non-null   object\n",
      " 64  Boys                        1665 non-null   object\n",
      " 65  Girls                       1665 non-null   object\n",
      " 66  MedvitsM                    1665 non-null   object\n",
      " 67  MedvitexplainM              1665 non-null   object\n",
      " 68  Urosurgeries                1665 non-null   object\n",
      " 69  Breastfeeding               1665 non-null   object\n",
      " 70  Method                      1665 non-null   object\n",
      " 71  Prevmethod                  1665 non-null   object\n",
      " 72  Methoddate                  1665 non-null   object\n",
      " 73  Whychart                    1665 non-null   object\n",
      " 74  Nextpreg                    1665 non-null   object\n",
      " 75  NextpregM                   1665 non-null   object\n",
      " 76  Spousesame                  1665 non-null   object\n",
      " 77  SpousesameM                 1665 non-null   object\n",
      " 78  Timeattemptpreg             1665 non-null   object\n",
      " 79  BMI                         1665 non-null   object\n",
      "dtypes: int64(5), object(75)\n",
      "memory usage: 1.0+ MB\n"
     ]
    }
   ],
   "source": [
    "df.info()"
   ]
  },
  {
   "cell_type": "code",
   "execution_count": 4,
   "id": "b07e2844-881d-4f0a-8597-949b1c1038b1",
   "metadata": {},
   "outputs": [
    {
     "name": "stdout",
     "output_type": "stream",
     "text": [
      "Total null values 0\n"
     ]
    },
    {
     "data": {
      "text/plain": [
       "ClientID                0\n",
       "CycleNumber             0\n",
       "Group                   0\n",
       "CycleWithPeakorNot      0\n",
       "ReproductiveCategory    0\n",
       "                       ..\n",
       "NextpregM               0\n",
       "Spousesame              0\n",
       "SpousesameM             0\n",
       "Timeattemptpreg         0\n",
       "BMI                     0\n",
       "Length: 80, dtype: int64"
      ]
     },
     "execution_count": 4,
     "metadata": {},
     "output_type": "execute_result"
    }
   ],
   "source": [
    "print(\"Total null values\",sum(df.isna().sum()))\n",
    "df.isna().sum()"
   ]
  },
  {
   "cell_type": "markdown",
   "id": "99e47f22-1b61-43c7-9d58-b509240054dc",
   "metadata": {},
   "source": [
    "## Data types of each column"
   ]
  },
  {
   "cell_type": "code",
   "execution_count": 5,
   "id": "06cf1ea3-6a53-45d1-ade3-eb7267e69689",
   "metadata": {},
   "outputs": [
    {
     "data": {
      "text/plain": [
       "[(dtype('O'), 'ClientID'),\n",
       " (dtype('int64'), 'CycleNumber'),\n",
       " (dtype('int64'), 'Group'),\n",
       " (dtype('int64'), 'CycleWithPeakorNot'),\n",
       " (dtype('int64'), 'ReproductiveCategory'),\n",
       " (dtype('int64'), 'LengthofCycle'),\n",
       " (dtype('O'), 'MeanCycleLength'),\n",
       " (dtype('O'), 'EstimatedDayofOvulation'),\n",
       " (dtype('O'), 'LengthofLutealPhase'),\n",
       " (dtype('O'), 'FirstDayofHigh'),\n",
       " (dtype('O'), 'TotalNumberofHighDays'),\n",
       " (dtype('O'), 'TotalHighPostPeak'),\n",
       " (dtype('O'), 'TotalNumberofPeakDays'),\n",
       " (dtype('O'), 'TotalDaysofFertility'),\n",
       " (dtype('O'), 'TotalFertilityFormula'),\n",
       " (dtype('O'), 'LengthofMenses'),\n",
       " (dtype('O'), 'MeanMensesLength'),\n",
       " (dtype('O'), 'MensesScoreDayOne'),\n",
       " (dtype('O'), 'MensesScoreDayTwo'),\n",
       " (dtype('O'), 'MensesScoreDayThree'),\n",
       " (dtype('O'), 'MensesScoreDayFour'),\n",
       " (dtype('O'), 'MensesScoreDayFive'),\n",
       " (dtype('O'), 'MensesScoreDaySix'),\n",
       " (dtype('O'), 'MensesScoreDaySeven'),\n",
       " (dtype('O'), 'MensesScoreDayEight'),\n",
       " (dtype('O'), 'MensesScoreDayNine'),\n",
       " (dtype('O'), 'MensesScoreDayTen'),\n",
       " (dtype('O'), 'MensesScoreDay11'),\n",
       " (dtype('O'), 'MensesScoreDay12'),\n",
       " (dtype('O'), 'MensesScoreDay13'),\n",
       " (dtype('O'), 'MensesScoreDay14'),\n",
       " (dtype('O'), 'MensesScoreDay15'),\n",
       " (dtype('O'), 'TotalMensesScore'),\n",
       " (dtype('O'), 'MeanBleedingIntensity'),\n",
       " (dtype('O'), 'NumberofDaysofIntercourse'),\n",
       " (dtype('O'), 'IntercourseInFertileWindow'),\n",
       " (dtype('O'), 'UnusualBleeding'),\n",
       " (dtype('O'), 'PhasesBleeding'),\n",
       " (dtype('O'), 'IntercourseDuringUnusBleed'),\n",
       " (dtype('O'), 'Age'),\n",
       " (dtype('O'), 'AgeM'),\n",
       " (dtype('O'), 'Maristatus'),\n",
       " (dtype('O'), 'MaristatusM'),\n",
       " (dtype('O'), 'Yearsmarried'),\n",
       " (dtype('O'), 'Wedding'),\n",
       " (dtype('O'), 'Religion'),\n",
       " (dtype('O'), 'ReligionM'),\n",
       " (dtype('O'), 'Ethnicity'),\n",
       " (dtype('O'), 'EthnicityM'),\n",
       " (dtype('O'), 'Schoolyears'),\n",
       " (dtype('O'), 'SchoolyearsM'),\n",
       " (dtype('O'), 'OccupationM'),\n",
       " (dtype('O'), 'IncomeM'),\n",
       " (dtype('O'), 'Height'),\n",
       " (dtype('O'), 'Weight'),\n",
       " (dtype('O'), 'Reprocate'),\n",
       " (dtype('O'), 'Numberpreg'),\n",
       " (dtype('O'), 'Livingkids'),\n",
       " (dtype('O'), 'Miscarriages'),\n",
       " (dtype('O'), 'Abortions'),\n",
       " (dtype('O'), 'Medvits'),\n",
       " (dtype('O'), 'Medvitexplain'),\n",
       " (dtype('O'), 'Gynosurgeries'),\n",
       " (dtype('O'), 'LivingkidsM'),\n",
       " (dtype('O'), 'Boys'),\n",
       " (dtype('O'), 'Girls'),\n",
       " (dtype('O'), 'MedvitsM'),\n",
       " (dtype('O'), 'MedvitexplainM'),\n",
       " (dtype('O'), 'Urosurgeries'),\n",
       " (dtype('O'), 'Breastfeeding'),\n",
       " (dtype('O'), 'Method'),\n",
       " (dtype('O'), 'Prevmethod'),\n",
       " (dtype('O'), 'Methoddate'),\n",
       " (dtype('O'), 'Whychart'),\n",
       " (dtype('O'), 'Nextpreg'),\n",
       " (dtype('O'), 'NextpregM'),\n",
       " (dtype('O'), 'Spousesame'),\n",
       " (dtype('O'), 'SpousesameM'),\n",
       " (dtype('O'), 'Timeattemptpreg'),\n",
       " (dtype('O'), 'BMI')]"
      ]
     },
     "execution_count": 5,
     "metadata": {},
     "output_type": "execute_result"
    }
   ],
   "source": [
    "types = df.dtypes\n",
    "columns = df.columns\n",
    "\n",
    "list(zip(types, columns))"
   ]
  },
  {
   "cell_type": "markdown",
   "id": "70e6dce3-06ea-4449-8897-0b86d3dd52e4",
   "metadata": {},
   "source": [
    "## BMI\n",
    "There are lots of missing values in a form of empty string `\" \"`."
   ]
  },
  {
   "cell_type": "code",
   "execution_count": 6,
   "id": "af646a09-9e92-4a09-9df3-3c4063d8082a",
   "metadata": {},
   "outputs": [],
   "source": [
    "# Replace the empty string with NaN\n",
    "df['BMI'] = df['BMI'].replace(\" \", np.nan)\n",
    "df['BMI'] = df['BMI'].astype(float) # ValueError: could not convert string to float: ' '"
   ]
  },
  {
   "cell_type": "code",
   "execution_count": 7,
   "id": "526863f3-4b99-4ead-a0e5-3f0dabd0badf",
   "metadata": {},
   "outputs": [
    {
     "data": {
      "text/plain": [
       "0.9213213213213213"
      ]
     },
     "execution_count": 7,
     "metadata": {},
     "output_type": "execute_result"
    }
   ],
   "source": [
    "df.BMI.isnull().sum() / len(df)"
   ]
  },
  {
   "cell_type": "markdown",
   "id": "81ffebbb-481c-4290-a760-bb89007f992e",
   "metadata": {},
   "source": [
    "__92% null values in BMI column__\n",
    "\n"
   ]
  },
  {
   "cell_type": "markdown",
   "id": "c783e1e2-940e-4c46-840c-91123c81f58c",
   "metadata": {},
   "source": [
    "# Replace all the `\" \"` values with nan"
   ]
  },
  {
   "cell_type": "code",
   "execution_count": 8,
   "id": "11375d44-40d5-4090-abe5-fb84c7bb80ef",
   "metadata": {},
   "outputs": [],
   "source": [
    "df = df.replace(\" \", np.nan)"
   ]
  },
  {
   "cell_type": "code",
   "execution_count": 9,
   "id": "f27adbed-db8e-42b0-8d27-1c976d1c54a8",
   "metadata": {},
   "outputs": [
    {
     "name": "stdout",
     "output_type": "stream",
     "text": [
      "<class 'pandas.core.frame.DataFrame'>\n",
      "RangeIndex: 1665 entries, 0 to 1664\n",
      "Data columns (total 80 columns):\n",
      " #   Column                      Non-Null Count  Dtype  \n",
      "---  ------                      --------------  -----  \n",
      " 0   ClientID                    1665 non-null   object \n",
      " 1   CycleNumber                 1665 non-null   int64  \n",
      " 2   Group                       1665 non-null   int64  \n",
      " 3   CycleWithPeakorNot          1665 non-null   int64  \n",
      " 4   ReproductiveCategory        1665 non-null   int64  \n",
      " 5   LengthofCycle               1665 non-null   int64  \n",
      " 6   MeanCycleLength             141 non-null    object \n",
      " 7   EstimatedDayofOvulation     1515 non-null   object \n",
      " 8   LengthofLutealPhase         1514 non-null   object \n",
      " 9   FirstDayofHigh              1407 non-null   object \n",
      " 10  TotalNumberofHighDays       1653 non-null   object \n",
      " 11  TotalHighPostPeak           1662 non-null   object \n",
      " 12  TotalNumberofPeakDays       1649 non-null   object \n",
      " 13  TotalDaysofFertility        1634 non-null   object \n",
      " 14  TotalFertilityFormula       1663 non-null   object \n",
      " 15  LengthofMenses              1661 non-null   object \n",
      " 16  MeanMensesLength            141 non-null    object \n",
      " 17  MensesScoreDayOne           1661 non-null   object \n",
      " 18  MensesScoreDayTwo           1661 non-null   object \n",
      " 19  MensesScoreDayThree         1640 non-null   object \n",
      " 20  MensesScoreDayFour          1578 non-null   object \n",
      " 21  MensesScoreDayFive          1231 non-null   object \n",
      " 22  MensesScoreDaySix           603 non-null    object \n",
      " 23  MensesScoreDaySeven         224 non-null    object \n",
      " 24  MensesScoreDayEight         68 non-null     object \n",
      " 25  MensesScoreDayNine          26 non-null     object \n",
      " 26  MensesScoreDayTen           6 non-null      object \n",
      " 27  MensesScoreDay11            2 non-null      object \n",
      " 28  MensesScoreDay12            1 non-null      object \n",
      " 29  MensesScoreDay13            1 non-null      object \n",
      " 30  MensesScoreDay14            1 non-null      object \n",
      " 31  MensesScoreDay15            1 non-null      object \n",
      " 32  TotalMensesScore            1661 non-null   object \n",
      " 33  MeanBleedingIntensity       110 non-null    object \n",
      " 34  NumberofDaysofIntercourse   1664 non-null   object \n",
      " 35  IntercourseInFertileWindow  1664 non-null   object \n",
      " 36  UnusualBleeding             1645 non-null   object \n",
      " 37  PhasesBleeding              106 non-null    object \n",
      " 38  IntercourseDuringUnusBleed  82 non-null     object \n",
      " 39  Age                         142 non-null    object \n",
      " 40  AgeM                        142 non-null    object \n",
      " 41  Maristatus                  142 non-null    object \n",
      " 42  MaristatusM                 142 non-null    object \n",
      " 43  Yearsmarried                131 non-null    object \n",
      " 44  Wedding                     10 non-null     object \n",
      " 45  Religion                    142 non-null    object \n",
      " 46  ReligionM                   142 non-null    object \n",
      " 47  Ethnicity                   141 non-null    object \n",
      " 48  EthnicityM                  142 non-null    object \n",
      " 49  Schoolyears                 135 non-null    object \n",
      " 50  SchoolyearsM                134 non-null    object \n",
      " 51  OccupationM                 141 non-null    object \n",
      " 52  IncomeM                     139 non-null    object \n",
      " 53  Height                      133 non-null    object \n",
      " 54  Weight                      134 non-null    object \n",
      " 55  Reprocate                   142 non-null    object \n",
      " 56  Numberpreg                  142 non-null    object \n",
      " 57  Livingkids                  142 non-null    object \n",
      " 58  Miscarriages                139 non-null    object \n",
      " 59  Abortions                   139 non-null    object \n",
      " 60  Medvits                     142 non-null    object \n",
      " 61  Medvitexplain               106 non-null    object \n",
      " 62  Gynosurgeries               26 non-null     object \n",
      " 63  LivingkidsM                 80 non-null     object \n",
      " 64  Boys                        47 non-null     object \n",
      " 65  Girls                       43 non-null     object \n",
      " 66  MedvitsM                    139 non-null    object \n",
      " 67  MedvitexplainM              60 non-null     object \n",
      " 68  Urosurgeries                3 non-null      object \n",
      " 69  Breastfeeding               142 non-null    object \n",
      " 70  Method                      142 non-null    object \n",
      " 71  Prevmethod                  30 non-null     object \n",
      " 72  Methoddate                  32 non-null     object \n",
      " 73  Whychart                    142 non-null    object \n",
      " 74  Nextpreg                    142 non-null    object \n",
      " 75  NextpregM                   141 non-null    object \n",
      " 76  Spousesame                  142 non-null    object \n",
      " 77  SpousesameM                 142 non-null    object \n",
      " 78  Timeattemptpreg             142 non-null    object \n",
      " 79  BMI                         131 non-null    float64\n",
      "dtypes: float64(1), int64(5), object(74)\n",
      "memory usage: 1.0+ MB\n"
     ]
    }
   ],
   "source": [
    "df.info()"
   ]
  },
  {
   "cell_type": "markdown",
   "id": "093d7010-0217-4e0a-bb5c-96988435d60c",
   "metadata": {},
   "source": [
    "## List of feature which has missing values not more than 60%"
   ]
  },
  {
   "cell_type": "code",
   "execution_count": 10,
   "id": "959360a8-b230-4e80-8c27-3b09529ec18d",
   "metadata": {},
   "outputs": [
    {
     "data": {
      "text/plain": [
       "(1665, 26)"
      ]
     },
     "execution_count": 10,
     "metadata": {},
     "output_type": "execute_result"
    }
   ],
   "source": [
    "null_percentages = df.isnull().mean() * 100\n",
    "selected_features = null_percentages[null_percentages <= 90].index.tolist()\n",
    "selected_df = df[selected_features]\n",
    "selected_df.shape"
   ]
  },
  {
   "cell_type": "code",
   "execution_count": 11,
   "id": "dc5d8cba-a8da-4f71-8405-36eac690f7b4",
   "metadata": {},
   "outputs": [
    {
     "data": {
      "text/plain": [
       "ClientID                      0.000000\n",
       "CycleNumber                   0.000000\n",
       "Group                         0.000000\n",
       "CycleWithPeakorNot            0.000000\n",
       "ReproductiveCategory          0.000000\n",
       "LengthofCycle                 0.000000\n",
       "EstimatedDayofOvulation       0.090090\n",
       "LengthofLutealPhase           0.090691\n",
       "FirstDayofHigh                0.154955\n",
       "TotalNumberofHighDays         0.007207\n",
       "TotalHighPostPeak             0.001802\n",
       "TotalNumberofPeakDays         0.009610\n",
       "TotalDaysofFertility          0.018619\n",
       "TotalFertilityFormula         0.001201\n",
       "LengthofMenses                0.002402\n",
       "MensesScoreDayOne             0.002402\n",
       "MensesScoreDayTwo             0.002402\n",
       "MensesScoreDayThree           0.015015\n",
       "MensesScoreDayFour            0.052252\n",
       "MensesScoreDayFive            0.260661\n",
       "MensesScoreDaySix             0.637838\n",
       "MensesScoreDaySeven           0.865465\n",
       "TotalMensesScore              0.002402\n",
       "NumberofDaysofIntercourse     0.000601\n",
       "IntercourseInFertileWindow    0.000601\n",
       "UnusualBleeding               0.012012\n",
       "dtype: float64"
      ]
     },
     "execution_count": 11,
     "metadata": {},
     "output_type": "execute_result"
    }
   ],
   "source": [
    "selected_df.isnull().mean()"
   ]
  },
  {
   "cell_type": "code",
   "execution_count": 12,
   "id": "b2e2d4b5-3b16-4f85-b3f5-8fa67f32a386",
   "metadata": {},
   "outputs": [],
   "source": [
    "# Remove unnecessary column\n",
    "selected_df = selected_df.drop(\"ClientID\", axis=1)"
   ]
  },
  {
   "cell_type": "code",
   "execution_count": 13,
   "id": "e94f23d4-6fe1-490d-9e0b-af1559929dbe",
   "metadata": {},
   "outputs": [],
   "source": [
    "# Change the data type from object to float\n",
    "selected_df = selected_df.astype(\"float\")"
   ]
  },
  {
   "cell_type": "markdown",
   "id": "f8c4f852-9ccc-4e07-b278-fafa72f89cda",
   "metadata": {},
   "source": [
    "## Creating the class"
   ]
  },
  {
   "cell_type": "code",
   "execution_count": 14,
   "id": "5be0283b-8a15-4206-b52d-107ae41c552c",
   "metadata": {},
   "outputs": [],
   "source": [
    "selected_df['Healthy'] = (selected_df['LengthofCycle'] >= 21) & (selected_df['LengthofCycle'] <= 35)\n",
    "selected_df['Healthy'] = selected_df['Healthy'].replace({True: 1, False: 0})"
   ]
  },
  {
   "cell_type": "code",
   "execution_count": 15,
   "id": "284249e9-86e0-467c-8751-fef44897fbb2",
   "metadata": {},
   "outputs": [
    {
     "data": {
      "text/plain": [
       "(159, 1665, 32)"
      ]
     },
     "execution_count": 15,
     "metadata": {},
     "output_type": "execute_result"
    }
   ],
   "source": [
    "n_women = df['ClientID'].nunique()\n",
    "n_women, len(df), df['LengthofCycle'].nunique()"
   ]
  },
  {
   "cell_type": "code",
   "execution_count": 16,
   "id": "6f6c50c1-d3a4-4215-b8c6-1879c8175bb9",
   "metadata": {},
   "outputs": [
    {
     "data": {
      "text/plain": [
       "0"
      ]
     },
     "execution_count": 16,
     "metadata": {},
     "output_type": "execute_result"
    }
   ],
   "source": [
    "# Fill the missing values\n",
    "df_filled = selected_df.fillna(selected_df.mean())\n",
    "sum(df_filled.isnull().sum())"
   ]
  },
  {
   "cell_type": "code",
   "execution_count": 17,
   "id": "b19b0084-5bef-4d19-a0dd-8bd5c3b48551",
   "metadata": {},
   "outputs": [
    {
     "data": {
      "text/plain": [
       "Healthy\n",
       "1    0.926126\n",
       "0    0.073874\n",
       "Name: proportion, dtype: float64"
      ]
     },
     "execution_count": 17,
     "metadata": {},
     "output_type": "execute_result"
    }
   ],
   "source": [
    "df_filled.Healthy.value_counts(normalize=True)"
   ]
  },
  {
   "cell_type": "markdown",
   "id": "f4ee7252-b2a5-4ce4-bc3f-2adfdd2f4454",
   "metadata": {},
   "source": [
    "# Classification"
   ]
  },
  {
   "cell_type": "markdown",
   "id": "76cdb07f-228a-4279-aa22-3f7969202f64",
   "metadata": {},
   "source": [
    "## Train test split"
   ]
  },
  {
   "cell_type": "code",
   "execution_count": 18,
   "id": "85eec57d-946c-4c26-9144-2b1a710d855e",
   "metadata": {},
   "outputs": [],
   "source": [
    "from sklearn.model_selection import train_test_split\n",
    "\n",
    "X = df_filled.drop('Healthy', axis=1)\n",
    "y = df_filled['Healthy']\n",
    "\n",
    "X_train, X_test, y_train, y_test = train_test_split(X, y, test_size=0.2, stratify=y, random_state=42)"
   ]
  },
  {
   "cell_type": "markdown",
   "id": "85ff23f8-a2f7-480b-ad24-0afb9a5f5abe",
   "metadata": {},
   "source": [
    "### Percentage of each class in train and test set"
   ]
  },
  {
   "cell_type": "code",
   "execution_count": 19,
   "id": "662248d1-eb65-400e-8418-1ddadc45e6ac",
   "metadata": {},
   "outputs": [
    {
     "name": "stdout",
     "output_type": "stream",
     "text": [
      "Healthy\n",
      "1    0.926426\n",
      "0    0.073574\n",
      "Name: proportion, dtype: float64\n",
      "Healthy\n",
      "1    0.924925\n",
      "0    0.075075\n",
      "Name: proportion, dtype: float64\n"
     ]
    }
   ],
   "source": [
    "print(y_train.value_counts(normalize=True))\n",
    "print(y_test.value_counts(normalize=True))"
   ]
  },
  {
   "cell_type": "markdown",
   "id": "af3529d1-1013-4c1d-aa70-cb4f401e19a1",
   "metadata": {},
   "source": [
    "## Scaling"
   ]
  },
  {
   "cell_type": "code",
   "execution_count": 20,
   "id": "23829831-440c-49cd-a377-59d2bb6ed85b",
   "metadata": {},
   "outputs": [],
   "source": [
    "scaler = StandardScaler()\n",
    "X_train = scaler.fit_transform(X_train)\n",
    "X_test = scaler.transform(X_test)"
   ]
  },
  {
   "cell_type": "markdown",
   "id": "934391d7-b055-490a-980b-e859aebb7d7c",
   "metadata": {},
   "source": [
    "## Random Forest"
   ]
  },
  {
   "cell_type": "code",
   "execution_count": 31,
   "id": "bed2b0f6-7650-4ba4-b248-da0cbbb1152f",
   "metadata": {},
   "outputs": [
    {
     "name": "stdout",
     "output_type": "stream",
     "text": [
      "Accuracy: 0.9819819819819819\n",
      "AUC Score: 0.88\n",
      "F1 Score: 0.9903536977491961\n",
      "Classification Report:\n",
      "              precision    recall  f1-score   support\n",
      "\n",
      "           0       1.00      0.76      0.86        25\n",
      "           1       0.98      1.00      0.99       308\n",
      "\n",
      "    accuracy                           0.98       333\n",
      "   macro avg       0.99      0.88      0.93       333\n",
      "weighted avg       0.98      0.98      0.98       333\n",
      "\n"
     ]
    }
   ],
   "source": [
    "from sklearn.ensemble import RandomForestClassifier\n",
    "from sklearn.svm import SVC\n",
    "from sklearn.linear_model import LogisticRegression\n",
    "from sklearn.metrics import accuracy_score, roc_auc_score\n",
    "from sklearn.metrics import f1_score, classification_report\n",
    "\n",
    "rf_classifier = LogisticRegression(random_state=42)\n",
    "rf_classifier.fit(X_train, y_train)\n",
    "y_pred = rf_classifier.predict(X_test)\n",
    "accuracy = accuracy_score(y_test, y_pred)\n",
    "auc_score = roc_auc_score(y_test, y_pred)\n",
    "f1 = f1_score(y_test, y_pred)\n",
    "\n",
    "report = classification_report(y_test, y_pred)\n",
    "\n",
    "print(\"Accuracy:\", accuracy)\n",
    "print(\"AUC Score:\", auc_score)\n",
    "print(\"F1 Score:\", f1)\n",
    "print(\"Classification Report:\")\n",
    "print(report)"
   ]
  },
  {
   "cell_type": "code",
   "execution_count": 32,
   "id": "a840879e-d12a-47b7-b0d3-824c5b5d32a1",
   "metadata": {},
   "outputs": [
    {
     "data": {
      "image/png": "[encoded data removed]",
      "text/plain": [
       "<Figure size 800x600 with 1 Axes>"
      ]
     },
     "metadata": {},
     "output_type": "display_data"
    }
   ],
   "source": [
    "from sklearn.metrics import roc_curve, auc\n",
    "import matplotlib.pyplot as plt\n",
    "\n",
    "# Assuming y_pred_prob contains the predicted probabilities for the positive class\n",
    "y_pred_prob = rf_classifier.predict_proba(X_test)[:, 1]\n",
    "\n",
    "# Calculate ROC curve and AUC score\n",
    "fpr, tpr, thresholds = roc_curve(y_test, y_pred_prob)\n",
    "roc_auc = auc(fpr, tpr)\n",
    "\n",
    "# Plot ROC curve\n",
    "plt.figure(figsize=(8, 6))\n",
    "plt.plot(fpr, tpr, color='green', lw=2, label='ROC curve (AUC = %0.2f)' % roc_auc)\n",
    "plt.plot([0, 1], [0, 1], color='red', linestyle='--', lw=2)\n",
    "plt.xlabel('False Positive Rate')\n",
    "plt.ylabel('True Positive Rate')\n",
    "plt.title('Receiver Operating Characteristic (ROC) Curve')\n",
    "plt.legend(loc='lower right')\n",
    "plt.show()"
   ]
  },
  {
   "cell_type": "code",
   "execution_count": 33,
   "id": "3279e1ad-2258-4c0b-9ec2-058337025252",
   "metadata": {},
   "outputs": [
    {
     "data": {
      "image/png": "[encoded data removed]",
      "text/plain": [
       "<Figure size 640x480 with 1 Axes>"
      ]
     },
     "metadata": {},
     "output_type": "display_data"
    }
   ],
   "source": [
    "import numpy as np\n",
    "import matplotlib.pyplot as plt\n",
    "from sklearn.model_selection import learning_curve\n",
    "\n",
    "def plot_learning_curve(estimator, title, X, y, ylim=None, cv=None,\n",
    "                        n_jobs=None, train_sizes=np.linspace(.1, 1.0, 5)):\n",
    "    plt.figure()\n",
    "    plt.title(title)\n",
    "    if ylim is not None:\n",
    "        plt.ylim(*ylim)\n",
    "    plt.xlabel(\"Training examples\")\n",
    "    plt.ylabel(\"Score\")\n",
    "    train_sizes, train_scores, test_scores = learning_curve(\n",
    "        estimator, X, y, cv=cv, n_jobs=n_jobs, train_sizes=train_sizes)\n",
    "    train_scores_mean = np.mean(train_scores, axis=1)\n",
    "    train_scores_std = np.std(train_scores, axis=1)\n",
    "    test_scores_mean = np.mean(test_scores, axis=1)\n",
    "    test_scores_std = np.std(test_scores, axis=1)\n",
    "    plt.grid()\n",
    "\n",
    "    plt.fill_between(train_sizes, train_scores_mean - train_scores_std,\n",
    "                     train_scores_mean + train_scores_std, alpha=0.1,\n",
    "                     color=\"r\")\n",
    "    plt.fill_between(train_sizes, test_scores_mean - test_scores_std,\n",
    "                     test_scores_mean + test_scores_std, alpha=0.1, color=\"g\")\n",
    "    plt.plot(train_sizes, train_scores_mean, 'o-', color=\"r\",\n",
    "             label=\"Training score\")\n",
    "    plt.plot(train_sizes, test_scores_mean, 'o-', color=\"g\",\n",
    "             label=\"Cross-validation score\")\n",
    "\n",
    "    plt.legend(loc=\"best\")\n",
    "    return plt\n",
    "\n",
    "# Replace estimator with your trained classifier, title with a suitable title, X_train and y_train with your training data.\n",
    "plot_learning_curve(rf_classifier, \"Learning Curve\", X_train, y_train, cv=5)\n",
    "\n",
    "plt.show()"
   ]
  },
  {
   "cell_type": "code",
   "execution_count": null,
   "id": "24a5c83b-713f-4dd5-b413-3971b5b59ea7",
   "metadata": {},
   "outputs": [],
   "source": []
  }
 ],
 "metadata": {
  "kernelspec": {
   "display_name": "Python 3 (ipykernel)",
   "language": "python",
   "name": "python3"
  },
  "language_info": {
   "codemirror_mode": {
    "name": "ipython",
    "version": 3
   },
   "file_extension": ".py",
   "mimetype": "text/x-python",
   "name": "python",
   "nbconvert_exporter": "python",
   "pygments_lexer": "ipython3",
   "version": "3.11.0"
  }
 },
 "nbformat": 4,
 "nbformat_minor": 5
}
