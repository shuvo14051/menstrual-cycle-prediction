{
 "cells": [
  {
   "cell_type": "code",
   "execution_count": 1,
   "id": "c11de294-ba9b-4a3d-b54f-87b250461556",
   "metadata": {},
   "outputs": [],
   "source": [
    "import os\n",
    "import numpy as np\n",
    "import pandas as pd\n",
    "import seaborn as sns\n",
    "import matplotlib.cm as cm\n",
    "import matplotlib.pyplot as plt\n",
    "from sklearn.preprocessing import StandardScaler\n",
    "from sklearn import metrics\n",
    "import warnings\n",
    "warnings.filterwarnings('ignore')\n",
    "warnings.filterwarnings(\"ignore\", message=\"subprocess.run\")\n",
    "\n",
    "%run utility_functions.ipynb"
   ]
  },
  {
   "cell_type": "code",
   "execution_count": 2,
   "id": "be3fea60-6a19-40a7-ba91-a821f64cc064",
   "metadata": {},
   "outputs": [],
   "source": [
    "df_original = pd.read_csv(\"Original_Preprocessed_data.csv\")\n",
    "df_syn = pd.read_csv(\"Synthetic-TVAE.csv\")"
   ]
  },
  {
   "cell_type": "markdown",
   "id": "575c52f2-a9ef-4c40-843b-0737a59ca145",
   "metadata": {},
   "source": [
    "# Train test split"
   ]
  },
  {
   "cell_type": "code",
   "execution_count": 3,
   "id": "76842a85-6502-4e3f-be51-2f96f96a3772",
   "metadata": {},
   "outputs": [],
   "source": [
    "from sklearn.model_selection import train_test_split\n",
    "\n",
    "X = df_original.drop('Healthy', axis=1)\n",
    "y = df_original['Healthy']\n",
    "\n",
    "X_temp, X_test, y_temp, y_test = train_test_split(X, y, test_size=0.4, stratify=y, random_state=42)"
   ]
  },
  {
   "cell_type": "code",
   "execution_count": 4,
   "id": "ac4b390d-1bf7-42e3-bbe1-40cdf8dfa00d",
   "metadata": {},
   "outputs": [],
   "source": [
    "# X_test.to_csv(\"X_test.csv\", index=None)\n",
    "# y_test.to_csv(\"y_test.csv\", index=None)"
   ]
  },
  {
   "cell_type": "markdown",
   "id": "c7953a25-d7ba-4c61-9538-1b01d887fc5e",
   "metadata": {},
   "source": [
    "# Concat X_temp and Synthetic"
   ]
  },
  {
   "cell_type": "code",
   "execution_count": 5,
   "id": "a3cf0083-256b-4ee2-83a6-ae1c7dea8f9a",
   "metadata": {},
   "outputs": [],
   "source": [
    "train_original = pd.concat([X_temp, y_temp], axis=1)"
   ]
  },
  {
   "cell_type": "code",
   "execution_count": 6,
   "id": "fdd8258d-97e9-4925-9b9e-7cbbd3ab3d2e",
   "metadata": {},
   "outputs": [],
   "source": [
    "total_train = pd.concat([train_original, df_syn])"
   ]
  },
  {
   "cell_type": "code",
   "execution_count": 7,
   "id": "efd044ea-49f1-445c-9412-c1f076925355",
   "metadata": {},
   "outputs": [],
   "source": [
    "X = total_train.drop('Healthy', axis=1)\n",
    "y = total_train['Healthy']\n",
    "y_train = y.copy()"
   ]
  },
  {
   "cell_type": "markdown",
   "id": "6bf58b57-7c1d-48f5-992e-e3740d12f4af",
   "metadata": {},
   "source": [
    "# Scaling"
   ]
  },
  {
   "cell_type": "code",
   "execution_count": 8,
   "id": "7e72fe97-a3a9-48fb-afaa-a09f9243031a",
   "metadata": {},
   "outputs": [],
   "source": [
    "scaler = StandardScaler()\n",
    "X_train = scaler.fit_transform(X)\n",
    "X_test = scaler.transform(X_test)"
   ]
  },
  {
   "cell_type": "markdown",
   "id": "ddde80c8-fcad-4faf-bf5a-f4b3b77f6998",
   "metadata": {},
   "source": [
    "# Logistic Regression"
   ]
  },
  {
   "cell_type": "code",
   "execution_count": 9,
   "id": "db09ce7e-1320-4369-bac2-eedca22ea9c2",
   "metadata": {},
   "outputs": [
    {
     "name": "stdout",
     "output_type": "stream",
     "text": [
      "============================= Test result ===========================\n",
      "Accuracy: 0.9709208400646203\n",
      "AUC Score: 0.9317755255255254\n",
      "F1 Score: 0.984641638225256\n",
      "Specificity: 0.8888888888888888\n",
      "Sensitivity: 0.9746621621621622\n",
      "Classification Report:\n",
      "              precision    recall  f1-score   support\n",
      "\n",
      "           0       0.62      0.89      0.73        27\n",
      "           1       0.99      0.97      0.98       592\n",
      "\n",
      "    accuracy                           0.97       619\n",
      "   macro avg       0.81      0.93      0.86       619\n",
      "weighted avg       0.98      0.97      0.97       619\n",
      "\n"
     ]
    }
   ],
   "source": [
    "from sklearn.linear_model import LogisticRegression\n",
    "from sklearn.metrics import accuracy_score, roc_auc_score\n",
    "from sklearn.metrics import f1_score, classification_report\n",
    "\n",
    "rf_classifier = LogisticRegression(random_state=42)\n",
    "rf_classifier.fit(X_train, y_train)\n",
    "print(\"============================= Test result ===========================\")\n",
    "y_pred = rf_classifier.predict(X_test)\n",
    "evaluate_classifier(y_test, y_pred) "
   ]
  },
  {
   "cell_type": "markdown",
   "id": "ce2b7972-fe98-4a9b-989e-fafcb35337bb",
   "metadata": {},
   "source": [
    "# RandomForest"
   ]
  },
  {
   "cell_type": "code",
   "execution_count": 10,
   "id": "0768cd1b-e334-4d54-8101-c4a535703005",
   "metadata": {},
   "outputs": [
    {
     "name": "stdout",
     "output_type": "stream",
     "text": [
      "============================= Test result ===========================\n",
      "Accuracy: 0.9935379644588045\n",
      "AUC Score: 0.9612737737737737\n",
      "F1 Score: 0.9966216216216216\n",
      "Specificity: 0.9259259259259259\n",
      "Sensitivity: 0.9966216216216216\n",
      "Classification Report:\n",
      "              precision    recall  f1-score   support\n",
      "\n",
      "           0       0.93      0.93      0.93        27\n",
      "           1       1.00      1.00      1.00       592\n",
      "\n",
      "    accuracy                           0.99       619\n",
      "   macro avg       0.96      0.96      0.96       619\n",
      "weighted avg       0.99      0.99      0.99       619\n",
      "\n"
     ]
    }
   ],
   "source": [
    "from sklearn.ensemble import RandomForestClassifier\n",
    "\n",
    "clf_random = RandomForestClassifier(n_estimators=300, random_state=42)\n",
    "clf_random.fit(X_train, y_train)\n",
    "\n",
    "print(\"============================= Test result ===========================\")\n",
    "y_pred = clf_random.predict(X_test)\n",
    "evaluate_classifier(y_test, y_pred) "
   ]
  },
  {
   "cell_type": "markdown",
   "id": "91f246a8-8afe-40ae-88f8-a7e87a2db34a",
   "metadata": {},
   "source": [
    "# TabNet"
   ]
  },
  {
   "cell_type": "code",
   "execution_count": 11,
   "id": "bd7b13d2-821c-4362-99ea-e7f51ad66b7b",
   "metadata": {
    "scrolled": true
   },
   "outputs": [
    {
     "name": "stdout",
     "output_type": "stream",
     "text": [
      "epoch 0  | loss: 0.8674  | val_0_auc: 0.44904 |  0:00:00s\n",
      "epoch 1  | loss: 0.62225 | val_0_auc: 0.48111 |  0:00:00s\n",
      "epoch 2  | loss: 0.49351 | val_0_auc: 0.51846 |  0:00:00s\n",
      "epoch 3  | loss: 0.42708 | val_0_auc: 0.57658 |  0:00:01s\n",
      "epoch 4  | loss: 0.3566  | val_0_auc: 0.70126 |  0:00:01s\n",
      "epoch 5  | loss: 0.33345 | val_0_auc: 0.78278 |  0:00:01s\n",
      "epoch 6  | loss: 0.27899 | val_0_auc: 0.80868 |  0:00:02s\n",
      "epoch 7  | loss: 0.24195 | val_0_auc: 0.81313 |  0:00:02s\n",
      "epoch 8  | loss: 0.22743 | val_0_auc: 0.81694 |  0:00:02s\n",
      "epoch 9  | loss: 0.19006 | val_0_auc: 0.79861 |  0:00:02s\n",
      "epoch 10 | loss: 0.19053 | val_0_auc: 0.79292 |  0:00:03s\n",
      "epoch 11 | loss: 0.19117 | val_0_auc: 0.75507 |  0:00:03s\n",
      "epoch 12 | loss: 0.16116 | val_0_auc: 0.76079 |  0:00:03s\n",
      "epoch 13 | loss: 0.12599 | val_0_auc: 0.76739 |  0:00:04s\n",
      "epoch 14 | loss: 0.13928 | val_0_auc: 0.79104 |  0:00:04s\n",
      "epoch 15 | loss: 0.1427  | val_0_auc: 0.8268  |  0:00:04s\n",
      "epoch 16 | loss: 0.1127  | val_0_auc: 0.84162 |  0:00:04s\n",
      "epoch 17 | loss: 0.12278 | val_0_auc: 0.84666 |  0:00:05s\n",
      "epoch 18 | loss: 0.10664 | val_0_auc: 0.87513 |  0:00:05s\n",
      "epoch 19 | loss: 0.08991 | val_0_auc: 0.87459 |  0:00:05s\n",
      "epoch 20 | loss: 0.09453 | val_0_auc: 0.88323 |  0:00:06s\n",
      "epoch 21 | loss: 0.08956 | val_0_auc: 0.89167 |  0:00:06s\n",
      "epoch 22 | loss: 0.07858 | val_0_auc: 0.87121 |  0:00:06s\n",
      "epoch 23 | loss: 0.08848 | val_0_auc: 0.86502 |  0:00:07s\n",
      "epoch 24 | loss: 0.07482 | val_0_auc: 0.85686 |  0:00:07s\n",
      "epoch 25 | loss: 0.08573 | val_0_auc: 0.85345 |  0:00:07s\n",
      "epoch 26 | loss: 0.08712 | val_0_auc: 0.85091 |  0:00:07s\n",
      "epoch 27 | loss: 0.07253 | val_0_auc: 0.85442 |  0:00:08s\n",
      "epoch 28 | loss: 0.06501 | val_0_auc: 0.87816 |  0:00:08s\n",
      "epoch 29 | loss: 0.07459 | val_0_auc: 0.87979 |  0:00:08s\n",
      "epoch 30 | loss: 0.06274 | val_0_auc: 0.88038 |  0:00:09s\n",
      "epoch 31 | loss: 0.0606  | val_0_auc: 0.8801  |  0:00:09s\n",
      "\n",
      "Early stopping occurred at epoch 31 with best_epoch = 21 and best_val_0_auc = 0.89167\n"
     ]
    }
   ],
   "source": [
    "from pytorch_tabnet.tab_model import TabNetClassifier\n",
    "\n",
    "clf_tabnet = TabNetClassifier()\n",
    "clf_tabnet.fit(\n",
    "  X_train, y_train,\n",
    "  eval_set=[(X_test, y_test)],\n",
    "  eval_metric=['auc']\n",
    ")"
   ]
  },
  {
   "cell_type": "code",
   "execution_count": 12,
   "id": "bd138405-9fac-472a-a8d1-6d1446ba4507",
   "metadata": {},
   "outputs": [
    {
     "name": "stdout",
     "output_type": "stream",
     "text": [
      "Accuracy: 0.9483037156704361\n",
      "AUC Score: 0.7785598098098097\n",
      "F1 Score: 0.9727427597955707\n",
      "Specificity: 0.5925925925925926\n",
      "Sensitivity: 0.964527027027027\n",
      "Classification Report:\n",
      "              precision    recall  f1-score   support\n",
      "\n",
      "           0       0.43      0.59      0.50        27\n",
      "           1       0.98      0.96      0.97       592\n",
      "\n",
      "    accuracy                           0.95       619\n",
      "   macro avg       0.71      0.78      0.74       619\n",
      "weighted avg       0.96      0.95      0.95       619\n",
      "\n"
     ]
    }
   ],
   "source": [
    "y_pred = clf_tabnet.predict(X_test)\n",
    "evaluate_classifier(y_test, y_pred) "
   ]
  },
  {
   "cell_type": "markdown",
   "id": "afc17dcf-b27f-4166-9aa6-d79fa6fa6273",
   "metadata": {},
   "source": [
    "## Decision Tree"
   ]
  },
  {
   "cell_type": "code",
   "execution_count": 14,
   "id": "79db498c-4c3b-4084-a17c-bea3d4a32f11",
   "metadata": {},
   "outputs": [
    {
     "name": "stdout",
     "output_type": "stream",
     "text": [
      "Accuracy: 0.9886914378029079\n",
      "AUC Score: 0.9940878378378378\n",
      "F1 Score: 0.994052676295667\n",
      "Specificity: 1.0\n",
      "Sensitivity: 0.9881756756756757\n",
      "Classification Report:\n",
      "              precision    recall  f1-score   support\n",
      "\n",
      "           0       0.79      1.00      0.89        27\n",
      "           1       1.00      0.99      0.99       592\n",
      "\n",
      "    accuracy                           0.99       619\n",
      "   macro avg       0.90      0.99      0.94       619\n",
      "weighted avg       0.99      0.99      0.99       619\n",
      "\n"
     ]
    }
   ],
   "source": [
    "from sklearn.tree import DecisionTreeClassifier\n",
    "\n",
    "clf = DecisionTreeClassifier()\n",
    "clf.fit(X_train, y_train)\n",
    "y_pred = clf.predict(X_test)\n",
    "evaluate_classifier(y_test, y_pred) "
   ]
  },
  {
   "cell_type": "code",
   "execution_count": null,
   "id": "a1876437-7b05-4076-947d-8319394c88ac",
   "metadata": {},
   "outputs": [],
   "source": []
  }
 ],
 "metadata": {
  "kernelspec": {
   "display_name": "Python 3 (ipykernel)",
   "language": "python",
   "name": "python3"
  },
  "language_info": {
   "codemirror_mode": {
    "name": "ipython",
    "version": 3
   },
   "file_extension": ".py",
   "mimetype": "text/x-python",
   "name": "python",
   "nbconvert_exporter": "python",
   "pygments_lexer": "ipython3",
   "version": "3.11.0"
  }
 },
 "nbformat": 4,
 "nbformat_minor": 5
}
