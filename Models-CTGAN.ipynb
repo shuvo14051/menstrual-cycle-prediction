{
 "cells": [
  {
   "cell_type": "code",
   "execution_count": 1,
   "id": "c11de294-ba9b-4a3d-b54f-87b250461556",
   "metadata": {},
   "outputs": [],
   "source": [
    "import os\n",
    "import numpy as np\n",
    "import pandas as pd\n",
    "import seaborn as sns\n",
    "import matplotlib.cm as cm\n",
    "import matplotlib.pyplot as plt\n",
    "from sklearn.preprocessing import StandardScaler\n",
    "from sklearn import metrics\n",
    "import warnings\n",
    "warnings.filterwarnings('ignore')\n",
    "warnings.filterwarnings(\"ignore\", message=\"subprocess.run\")\n",
    "\n",
    "%run utility_functions.ipynb"
   ]
  },
  {
   "cell_type": "code",
   "execution_count": 2,
   "id": "be3fea60-6a19-40a7-ba91-a821f64cc064",
   "metadata": {},
   "outputs": [],
   "source": [
    "df_original = pd.read_csv(\"data/Original_Preprocessed_data.csv\")\n",
    "df_syn = pd.read_csv(\"data/Synthetic.csv\")"
   ]
  },
  {
   "cell_type": "markdown",
   "id": "575c52f2-a9ef-4c40-843b-0737a59ca145",
   "metadata": {},
   "source": [
    "# Train test split"
   ]
  },
  {
   "cell_type": "code",
   "execution_count": 3,
   "id": "76842a85-6502-4e3f-be51-2f96f96a3772",
   "metadata": {},
   "outputs": [],
   "source": [
    "from sklearn.model_selection import train_test_split\n",
    "\n",
    "X = df_original.drop('Healthy', axis=1)\n",
    "y = df_original['Healthy']\n",
    "\n",
    "X_temp, X_test, y_temp, y_test = train_test_split(X, y, test_size=0.2, stratify=y, random_state=42)"
   ]
  },
  {
   "cell_type": "code",
   "execution_count": 4,
   "id": "ac4b390d-1bf7-42e3-bbe1-40cdf8dfa00d",
   "metadata": {},
   "outputs": [],
   "source": [
    "# X_test.to_csv(\"X_test.csv\", index=None)\n",
    "# y_test.to_csv(\"y_test.csv\", index=None)"
   ]
  },
  {
   "cell_type": "markdown",
   "id": "c7953a25-d7ba-4c61-9538-1b01d887fc5e",
   "metadata": {},
   "source": [
    "# Concat X_temp and Synthetic"
   ]
  },
  {
   "cell_type": "code",
   "execution_count": 5,
   "id": "a3cf0083-256b-4ee2-83a6-ae1c7dea8f9a",
   "metadata": {},
   "outputs": [],
   "source": [
    "train_original = pd.concat([X_temp, y_temp], axis=1)"
   ]
  },
  {
   "cell_type": "code",
   "execution_count": 6,
   "id": "fdd8258d-97e9-4925-9b9e-7cbbd3ab3d2e",
   "metadata": {},
   "outputs": [],
   "source": [
    "total_train = pd.concat([train_original, df_syn])"
   ]
  },
  {
   "cell_type": "code",
   "execution_count": 7,
   "id": "efd044ea-49f1-445c-9412-c1f076925355",
   "metadata": {},
   "outputs": [],
   "source": [
    "X = total_train.drop('Healthy', axis=1)\n",
    "y = total_train['Healthy']\n",
    "\n",
    "X_train, X_val, y_train, y_val = train_test_split(X, y, test_size=0.2, stratify=y, random_state=42)"
   ]
  },
  {
   "cell_type": "markdown",
   "id": "6bf58b57-7c1d-48f5-992e-e3740d12f4af",
   "metadata": {},
   "source": [
    "# Scaling"
   ]
  },
  {
   "cell_type": "code",
   "execution_count": 8,
   "id": "7e72fe97-a3a9-48fb-afaa-a09f9243031a",
   "metadata": {},
   "outputs": [],
   "source": [
    "scaler = StandardScaler()\n",
    "X_train = scaler.fit_transform(X_train)\n",
    "X_test = scaler.transform(X_test)"
   ]
  },
  {
   "cell_type": "markdown",
   "id": "ddde80c8-fcad-4faf-bf5a-f4b3b77f6998",
   "metadata": {},
   "source": [
    "# Logistic Regression"
   ]
  },
  {
   "cell_type": "code",
   "execution_count": 14,
   "id": "db09ce7e-1320-4369-bac2-eedca22ea9c2",
   "metadata": {},
   "outputs": [
    {
     "name": "stdout",
     "output_type": "stream",
     "text": [
      "============================= Test result ===========================\n",
      "Accuracy: 0.7\n",
      "AUC Score: 0.8066563066563067\n",
      "F1 Score: 0.8151093439363817\n",
      "Specificity: 0.9230769230769231\n",
      "Sensitivity: 0.6902356902356902\n",
      "Classification Report:\n",
      "              precision    recall  f1-score   support\n",
      "\n",
      "           0       0.12      0.92      0.21        13\n",
      "           1       1.00      0.69      0.82       297\n",
      "\n",
      "    accuracy                           0.70       310\n",
      "   macro avg       0.56      0.81      0.51       310\n",
      "weighted avg       0.96      0.70      0.79       310\n",
      "\n",
      "============================= Validation result ===========================\n",
      "Accuracy: 0.5586592178770949\n",
      "AUC Score: 0.5\n",
      "F1 Score: 0.0\n",
      "Specificity: 1.0\n",
      "Sensitivity: 0.0\n",
      "Classification Report:\n",
      "              precision    recall  f1-score   support\n",
      "\n",
      "           0       0.56      1.00      0.72       300\n",
      "           1       0.00      0.00      0.00       237\n",
      "\n",
      "    accuracy                           0.56       537\n",
      "   macro avg       0.28      0.50      0.36       537\n",
      "weighted avg       0.31      0.56      0.40       537\n",
      "\n"
     ]
    }
   ],
   "source": [
    "from sklearn.linear_model import LogisticRegression\n",
    "from sklearn.metrics import accuracy_score, roc_auc_score\n",
    "from sklearn.metrics import f1_score, classification_report\n",
    "\n",
    "rf_classifier = LogisticRegression(random_state=42)\n",
    "rf_classifier.fit(X_train, y_train)\n",
    "print(\"============================= Test result ===========================\")\n",
    "y_pred = rf_classifier.predict(X_test)\n",
    "evaluate_classifier(y_test, y_pred) \n",
    "print(\"============================= Validation result ===========================\")\n",
    "y_pred = rf_classifier.predict(X_val)\n",
    "evaluate_classifier(y_val, y_pred) "
   ]
  },
  {
   "cell_type": "markdown",
   "id": "ce2b7972-fe98-4a9b-989e-fafcb35337bb",
   "metadata": {},
   "source": [
    "# RandomForest"
   ]
  },
  {
   "cell_type": "code",
   "execution_count": 16,
   "id": "0768cd1b-e334-4d54-8101-c4a535703005",
   "metadata": {},
   "outputs": [
    {
     "name": "stdout",
     "output_type": "stream",
     "text": [
      "============================= Test result ===========================\n",
      "Accuracy: 0.9580645161290322\n",
      "AUC Score: 0.9413364413364413\n",
      "F1 Score: 0.9777015437392796\n",
      "Specificity: 0.9230769230769231\n",
      "Sensitivity: 0.9595959595959596\n",
      "Classification Report:\n",
      "              precision    recall  f1-score   support\n",
      "\n",
      "           0       0.50      0.92      0.65        13\n",
      "           1       1.00      0.96      0.98       297\n",
      "\n",
      "    accuracy                           0.96       310\n",
      "   macro avg       0.75      0.94      0.81       310\n",
      "weighted avg       0.98      0.96      0.96       310\n",
      "\n",
      "============================= Validation result ===========================\n",
      "Accuracy: 0.5586592178770949\n",
      "AUC Score: 0.5\n",
      "F1 Score: 0.0\n",
      "Specificity: 1.0\n",
      "Sensitivity: 0.0\n",
      "Classification Report:\n",
      "              precision    recall  f1-score   support\n",
      "\n",
      "           0       0.56      1.00      0.72       300\n",
      "           1       0.00      0.00      0.00       237\n",
      "\n",
      "    accuracy                           0.56       537\n",
      "   macro avg       0.28      0.50      0.36       537\n",
      "weighted avg       0.31      0.56      0.40       537\n",
      "\n"
     ]
    }
   ],
   "source": [
    "from sklearn.ensemble import RandomForestClassifier\n",
    "\n",
    "clf_random = RandomForestClassifier(n_estimators=300, random_state=42)\n",
    "clf_random.fit(X_train, y_train)\n",
    "\n",
    "print(\"============================= Test result ===========================\")\n",
    "y_pred = clf_random.predict(X_test)\n",
    "evaluate_classifier(y_test, y_pred) \n",
    "print(\"============================= Validation result ===========================\")\n",
    "y_pred = clf_random.predict(X_val)\n",
    "evaluate_classifier(y_val, y_pred) "
   ]
  },
  {
   "cell_type": "code",
   "execution_count": null,
   "id": "bd7b13d2-821c-4362-99ea-e7f51ad66b7b",
   "metadata": {},
   "outputs": [],
   "source": []
  }
 ],
 "metadata": {
  "kernelspec": {
   "display_name": "Python 3 (ipykernel)",
   "language": "python",
   "name": "python3"
  },
  "language_info": {
   "codemirror_mode": {
    "name": "ipython",
    "version": 3
   },
   "file_extension": ".py",
   "mimetype": "text/x-python",
   "name": "python",
   "nbconvert_exporter": "python",
   "pygments_lexer": "ipython3",
   "version": "3.11.0"
  }
 },
 "nbformat": 4,
 "nbformat_minor": 5
}
