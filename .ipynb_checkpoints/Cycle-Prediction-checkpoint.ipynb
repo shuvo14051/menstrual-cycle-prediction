{
 "cells": [
  {
   "cell_type": "code",
   "execution_count": 1,
   "id": "3d8ffa7b-e1d3-4177-a767-a5fe4a204aa3",
   "metadata": {},
   "outputs": [],
   "source": [
    "import os\n",
    "import numpy as np\n",
    "import pandas as pd\n",
    "import seaborn as sns\n",
    "import matplotlib.cm as cm\n",
    "import matplotlib.pyplot as plt\n",
    "from sklearn.preprocessing import StandardScaler\n",
    "from sklearn import metrics\n",
    "import warnings\n",
    "warnings.filterwarnings('ignore')\n",
    "warnings.filterwarnings(\"ignore\", message=\"subprocess.run\")\n",
    "\n",
    "%run utility_functions.ipynb"
   ]
  },
  {
   "cell_type": "code",
   "execution_count": 2,
   "id": "4f76442a-a87a-40cf-afb2-d17f68afa6a5",
   "metadata": {},
   "outputs": [
    {
     "data": {
      "text/html": [
       "<div>\n",
       "<style scoped>\n",
       "    .dataframe tbody tr th:only-of-type {\n",
       "        vertical-align: middle;\n",
       "    }\n",
       "\n",
       "    .dataframe tbody tr th {\n",
       "        vertical-align: top;\n",
       "    }\n",
       "\n",
       "    .dataframe thead th {\n",
       "        text-align: right;\n",
       "    }\n",
       "</style>\n",
       "<table border=\"1\" class=\"dataframe\">\n",
       "  <thead>\n",
       "    <tr style=\"text-align: right;\">\n",
       "      <th></th>\n",
       "      <th>ClientID</th>\n",
       "      <th>CycleNumber</th>\n",
       "      <th>Group</th>\n",
       "      <th>CycleWithPeakorNot</th>\n",
       "      <th>ReproductiveCategory</th>\n",
       "      <th>LengthofCycle</th>\n",
       "      <th>MeanCycleLength</th>\n",
       "      <th>EstimatedDayofOvulation</th>\n",
       "      <th>LengthofLutealPhase</th>\n",
       "      <th>FirstDayofHigh</th>\n",
       "      <th>...</th>\n",
       "      <th>Method</th>\n",
       "      <th>Prevmethod</th>\n",
       "      <th>Methoddate</th>\n",
       "      <th>Whychart</th>\n",
       "      <th>Nextpreg</th>\n",
       "      <th>NextpregM</th>\n",
       "      <th>Spousesame</th>\n",
       "      <th>SpousesameM</th>\n",
       "      <th>Timeattemptpreg</th>\n",
       "      <th>BMI</th>\n",
       "    </tr>\n",
       "  </thead>\n",
       "  <tbody>\n",
       "    <tr>\n",
       "      <th>1420</th>\n",
       "      <td>nfp8294</td>\n",
       "      <td>12</td>\n",
       "      <td>0</td>\n",
       "      <td>1</td>\n",
       "      <td>0</td>\n",
       "      <td>32</td>\n",
       "      <td></td>\n",
       "      <td>21</td>\n",
       "      <td>11</td>\n",
       "      <td></td>\n",
       "      <td>...</td>\n",
       "      <td></td>\n",
       "      <td></td>\n",
       "      <td></td>\n",
       "      <td></td>\n",
       "      <td></td>\n",
       "      <td></td>\n",
       "      <td></td>\n",
       "      <td></td>\n",
       "      <td></td>\n",
       "      <td></td>\n",
       "    </tr>\n",
       "    <tr>\n",
       "      <th>453</th>\n",
       "      <td>nfp8099</td>\n",
       "      <td>7</td>\n",
       "      <td>1</td>\n",
       "      <td>1</td>\n",
       "      <td>0</td>\n",
       "      <td>28</td>\n",
       "      <td></td>\n",
       "      <td>13</td>\n",
       "      <td>15</td>\n",
       "      <td>12</td>\n",
       "      <td>...</td>\n",
       "      <td></td>\n",
       "      <td></td>\n",
       "      <td></td>\n",
       "      <td></td>\n",
       "      <td></td>\n",
       "      <td></td>\n",
       "      <td></td>\n",
       "      <td></td>\n",
       "      <td></td>\n",
       "      <td></td>\n",
       "    </tr>\n",
       "    <tr>\n",
       "      <th>560</th>\n",
       "      <td>nfp8124</td>\n",
       "      <td>7</td>\n",
       "      <td>0</td>\n",
       "      <td>1</td>\n",
       "      <td>0</td>\n",
       "      <td>30</td>\n",
       "      <td></td>\n",
       "      <td>17</td>\n",
       "      <td>13</td>\n",
       "      <td></td>\n",
       "      <td>...</td>\n",
       "      <td></td>\n",
       "      <td></td>\n",
       "      <td></td>\n",
       "      <td></td>\n",
       "      <td></td>\n",
       "      <td></td>\n",
       "      <td></td>\n",
       "      <td></td>\n",
       "      <td></td>\n",
       "      <td></td>\n",
       "    </tr>\n",
       "    <tr>\n",
       "      <th>245</th>\n",
       "      <td>nfp8060</td>\n",
       "      <td>3</td>\n",
       "      <td>1</td>\n",
       "      <td>1</td>\n",
       "      <td>0</td>\n",
       "      <td>28</td>\n",
       "      <td></td>\n",
       "      <td>14</td>\n",
       "      <td>14</td>\n",
       "      <td>9</td>\n",
       "      <td>...</td>\n",
       "      <td></td>\n",
       "      <td></td>\n",
       "      <td></td>\n",
       "      <td></td>\n",
       "      <td></td>\n",
       "      <td></td>\n",
       "      <td></td>\n",
       "      <td></td>\n",
       "      <td></td>\n",
       "      <td></td>\n",
       "    </tr>\n",
       "    <tr>\n",
       "      <th>1027</th>\n",
       "      <td>nfp8212</td>\n",
       "      <td>11</td>\n",
       "      <td>0</td>\n",
       "      <td>1</td>\n",
       "      <td>0</td>\n",
       "      <td>35</td>\n",
       "      <td></td>\n",
       "      <td>21</td>\n",
       "      <td>14</td>\n",
       "      <td>11</td>\n",
       "      <td>...</td>\n",
       "      <td></td>\n",
       "      <td></td>\n",
       "      <td></td>\n",
       "      <td></td>\n",
       "      <td></td>\n",
       "      <td></td>\n",
       "      <td></td>\n",
       "      <td></td>\n",
       "      <td></td>\n",
       "      <td></td>\n",
       "    </tr>\n",
       "  </tbody>\n",
       "</table>\n",
       "<p>5 rows × 80 columns</p>\n",
       "</div>"
      ],
      "text/plain": [
       "     ClientID  CycleNumber  Group  CycleWithPeakorNot  ReproductiveCategory  \\\n",
       "1420  nfp8294           12      0                   1                     0   \n",
       "453   nfp8099            7      1                   1                     0   \n",
       "560   nfp8124            7      0                   1                     0   \n",
       "245   nfp8060            3      1                   1                     0   \n",
       "1027  nfp8212           11      0                   1                     0   \n",
       "\n",
       "      LengthofCycle MeanCycleLength EstimatedDayofOvulation  \\\n",
       "1420             32                                      21   \n",
       "453              28                                      13   \n",
       "560              30                                      17   \n",
       "245              28                                      14   \n",
       "1027             35                                      21   \n",
       "\n",
       "     LengthofLutealPhase FirstDayofHigh  ... Method Prevmethod Methoddate  \\\n",
       "1420                  11                 ...                                \n",
       "453                   15             12  ...                                \n",
       "560                   13                 ...                                \n",
       "245                   14              9  ...                                \n",
       "1027                  14             11  ...                                \n",
       "\n",
       "     Whychart Nextpreg NextpregM Spousesame SpousesameM Timeattemptpreg BMI  \n",
       "1420                                                                         \n",
       "453                                                                          \n",
       "560                                                                          \n",
       "245                                                                          \n",
       "1027                                                                         \n",
       "\n",
       "[5 rows x 80 columns]"
      ]
     },
     "execution_count": 2,
     "metadata": {},
     "output_type": "execute_result"
    }
   ],
   "source": [
    "df = pd.read_csv(\"data/FedCycleData.csv\")\n",
    "df.sample(5)"
   ]
  },
  {
   "cell_type": "code",
   "execution_count": 3,
   "id": "fc9b25d5-74d6-4a32-83ef-cbdbe44a5ac3",
   "metadata": {},
   "outputs": [
    {
     "name": "stdout",
     "output_type": "stream",
     "text": [
      "<class 'pandas.core.frame.DataFrame'>\n",
      "RangeIndex: 1665 entries, 0 to 1664\n",
      "Data columns (total 80 columns):\n",
      " #   Column                      Non-Null Count  Dtype \n",
      "---  ------                      --------------  ----- \n",
      " 0   ClientID                    1665 non-null   object\n",
      " 1   CycleNumber                 1665 non-null   int64 \n",
      " 2   Group                       1665 non-null   int64 \n",
      " 3   CycleWithPeakorNot          1665 non-null   int64 \n",
      " 4   ReproductiveCategory        1665 non-null   int64 \n",
      " 5   LengthofCycle               1665 non-null   int64 \n",
      " 6   MeanCycleLength             1665 non-null   object\n",
      " 7   EstimatedDayofOvulation     1665 non-null   object\n",
      " 8   LengthofLutealPhase         1665 non-null   object\n",
      " 9   FirstDayofHigh              1665 non-null   object\n",
      " 10  TotalNumberofHighDays       1665 non-null   object\n",
      " 11  TotalHighPostPeak           1665 non-null   object\n",
      " 12  TotalNumberofPeakDays       1665 non-null   object\n",
      " 13  TotalDaysofFertility        1665 non-null   object\n",
      " 14  TotalFertilityFormula       1665 non-null   object\n",
      " 15  LengthofMenses              1665 non-null   object\n",
      " 16  MeanMensesLength            1665 non-null   object\n",
      " 17  MensesScoreDayOne           1665 non-null   object\n",
      " 18  MensesScoreDayTwo           1665 non-null   object\n",
      " 19  MensesScoreDayThree         1665 non-null   object\n",
      " 20  MensesScoreDayFour          1665 non-null   object\n",
      " 21  MensesScoreDayFive          1665 non-null   object\n",
      " 22  MensesScoreDaySix           1665 non-null   object\n",
      " 23  MensesScoreDaySeven         1665 non-null   object\n",
      " 24  MensesScoreDayEight         1665 non-null   object\n",
      " 25  MensesScoreDayNine          1665 non-null   object\n",
      " 26  MensesScoreDayTen           1665 non-null   object\n",
      " 27  MensesScoreDay11            1665 non-null   object\n",
      " 28  MensesScoreDay12            1665 non-null   object\n",
      " 29  MensesScoreDay13            1665 non-null   object\n",
      " 30  MensesScoreDay14            1665 non-null   object\n",
      " 31  MensesScoreDay15            1665 non-null   object\n",
      " 32  TotalMensesScore            1665 non-null   object\n",
      " 33  MeanBleedingIntensity       1665 non-null   object\n",
      " 34  NumberofDaysofIntercourse   1665 non-null   object\n",
      " 35  IntercourseInFertileWindow  1665 non-null   object\n",
      " 36  UnusualBleeding             1665 non-null   object\n",
      " 37  PhasesBleeding              1665 non-null   object\n",
      " 38  IntercourseDuringUnusBleed  1665 non-null   object\n",
      " 39  Age                         1665 non-null   object\n",
      " 40  AgeM                        1665 non-null   object\n",
      " 41  Maristatus                  1665 non-null   object\n",
      " 42  MaristatusM                 1665 non-null   object\n",
      " 43  Yearsmarried                1665 non-null   object\n",
      " 44  Wedding                     1665 non-null   object\n",
      " 45  Religion                    1665 non-null   object\n",
      " 46  ReligionM                   1665 non-null   object\n",
      " 47  Ethnicity                   1665 non-null   object\n",
      " 48  EthnicityM                  1665 non-null   object\n",
      " 49  Schoolyears                 1665 non-null   object\n",
      " 50  SchoolyearsM                1665 non-null   object\n",
      " 51  OccupationM                 1665 non-null   object\n",
      " 52  IncomeM                     1665 non-null   object\n",
      " 53  Height                      1665 non-null   object\n",
      " 54  Weight                      1665 non-null   object\n",
      " 55  Reprocate                   1665 non-null   object\n",
      " 56  Numberpreg                  1665 non-null   object\n",
      " 57  Livingkids                  1665 non-null   object\n",
      " 58  Miscarriages                1665 non-null   object\n",
      " 59  Abortions                   1665 non-null   object\n",
      " 60  Medvits                     1665 non-null   object\n",
      " 61  Medvitexplain               1665 non-null   object\n",
      " 62  Gynosurgeries               1665 non-null   object\n",
      " 63  LivingkidsM                 1665 non-null   object\n",
      " 64  Boys                        1665 non-null   object\n",
      " 65  Girls                       1665 non-null   object\n",
      " 66  MedvitsM                    1665 non-null   object\n",
      " 67  MedvitexplainM              1665 non-null   object\n",
      " 68  Urosurgeries                1665 non-null   object\n",
      " 69  Breastfeeding               1665 non-null   object\n",
      " 70  Method                      1665 non-null   object\n",
      " 71  Prevmethod                  1665 non-null   object\n",
      " 72  Methoddate                  1665 non-null   object\n",
      " 73  Whychart                    1665 non-null   object\n",
      " 74  Nextpreg                    1665 non-null   object\n",
      " 75  NextpregM                   1665 non-null   object\n",
      " 76  Spousesame                  1665 non-null   object\n",
      " 77  SpousesameM                 1665 non-null   object\n",
      " 78  Timeattemptpreg             1665 non-null   object\n",
      " 79  BMI                         1665 non-null   object\n",
      "dtypes: int64(5), object(75)\n",
      "memory usage: 1.0+ MB\n"
     ]
    }
   ],
   "source": [
    "df.info()"
   ]
  },
  {
   "cell_type": "code",
   "execution_count": 4,
   "id": "b07e2844-881d-4f0a-8597-949b1c1038b1",
   "metadata": {},
   "outputs": [
    {
     "name": "stdout",
     "output_type": "stream",
     "text": [
      "Total null values 0\n"
     ]
    },
    {
     "data": {
      "text/plain": [
       "ClientID                0\n",
       "CycleNumber             0\n",
       "Group                   0\n",
       "CycleWithPeakorNot      0\n",
       "ReproductiveCategory    0\n",
       "                       ..\n",
       "NextpregM               0\n",
       "Spousesame              0\n",
       "SpousesameM             0\n",
       "Timeattemptpreg         0\n",
       "BMI                     0\n",
       "Length: 80, dtype: int64"
      ]
     },
     "execution_count": 4,
     "metadata": {},
     "output_type": "execute_result"
    }
   ],
   "source": [
    "print(\"Total null values\",sum(df.isna().sum()))\n",
    "df.isna().sum()"
   ]
  },
  {
   "cell_type": "markdown",
   "id": "99e47f22-1b61-43c7-9d58-b509240054dc",
   "metadata": {},
   "source": [
    "## Data types of each column"
   ]
  },
  {
   "cell_type": "code",
   "execution_count": 5,
   "id": "06cf1ea3-6a53-45d1-ade3-eb7267e69689",
   "metadata": {},
   "outputs": [
    {
     "data": {
      "text/plain": [
       "[(dtype('O'), 'ClientID'),\n",
       " (dtype('int64'), 'CycleNumber'),\n",
       " (dtype('int64'), 'Group'),\n",
       " (dtype('int64'), 'CycleWithPeakorNot'),\n",
       " (dtype('int64'), 'ReproductiveCategory'),\n",
       " (dtype('int64'), 'LengthofCycle'),\n",
       " (dtype('O'), 'MeanCycleLength'),\n",
       " (dtype('O'), 'EstimatedDayofOvulation'),\n",
       " (dtype('O'), 'LengthofLutealPhase'),\n",
       " (dtype('O'), 'FirstDayofHigh'),\n",
       " (dtype('O'), 'TotalNumberofHighDays'),\n",
       " (dtype('O'), 'TotalHighPostPeak'),\n",
       " (dtype('O'), 'TotalNumberofPeakDays'),\n",
       " (dtype('O'), 'TotalDaysofFertility'),\n",
       " (dtype('O'), 'TotalFertilityFormula'),\n",
       " (dtype('O'), 'LengthofMenses'),\n",
       " (dtype('O'), 'MeanMensesLength'),\n",
       " (dtype('O'), 'MensesScoreDayOne'),\n",
       " (dtype('O'), 'MensesScoreDayTwo'),\n",
       " (dtype('O'), 'MensesScoreDayThree'),\n",
       " (dtype('O'), 'MensesScoreDayFour'),\n",
       " (dtype('O'), 'MensesScoreDayFive'),\n",
       " (dtype('O'), 'MensesScoreDaySix'),\n",
       " (dtype('O'), 'MensesScoreDaySeven'),\n",
       " (dtype('O'), 'MensesScoreDayEight'),\n",
       " (dtype('O'), 'MensesScoreDayNine'),\n",
       " (dtype('O'), 'MensesScoreDayTen'),\n",
       " (dtype('O'), 'MensesScoreDay11'),\n",
       " (dtype('O'), 'MensesScoreDay12'),\n",
       " (dtype('O'), 'MensesScoreDay13'),\n",
       " (dtype('O'), 'MensesScoreDay14'),\n",
       " (dtype('O'), 'MensesScoreDay15'),\n",
       " (dtype('O'), 'TotalMensesScore'),\n",
       " (dtype('O'), 'MeanBleedingIntensity'),\n",
       " (dtype('O'), 'NumberofDaysofIntercourse'),\n",
       " (dtype('O'), 'IntercourseInFertileWindow'),\n",
       " (dtype('O'), 'UnusualBleeding'),\n",
       " (dtype('O'), 'PhasesBleeding'),\n",
       " (dtype('O'), 'IntercourseDuringUnusBleed'),\n",
       " (dtype('O'), 'Age'),\n",
       " (dtype('O'), 'AgeM'),\n",
       " (dtype('O'), 'Maristatus'),\n",
       " (dtype('O'), 'MaristatusM'),\n",
       " (dtype('O'), 'Yearsmarried'),\n",
       " (dtype('O'), 'Wedding'),\n",
       " (dtype('O'), 'Religion'),\n",
       " (dtype('O'), 'ReligionM'),\n",
       " (dtype('O'), 'Ethnicity'),\n",
       " (dtype('O'), 'EthnicityM'),\n",
       " (dtype('O'), 'Schoolyears'),\n",
       " (dtype('O'), 'SchoolyearsM'),\n",
       " (dtype('O'), 'OccupationM'),\n",
       " (dtype('O'), 'IncomeM'),\n",
       " (dtype('O'), 'Height'),\n",
       " (dtype('O'), 'Weight'),\n",
       " (dtype('O'), 'Reprocate'),\n",
       " (dtype('O'), 'Numberpreg'),\n",
       " (dtype('O'), 'Livingkids'),\n",
       " (dtype('O'), 'Miscarriages'),\n",
       " (dtype('O'), 'Abortions'),\n",
       " (dtype('O'), 'Medvits'),\n",
       " (dtype('O'), 'Medvitexplain'),\n",
       " (dtype('O'), 'Gynosurgeries'),\n",
       " (dtype('O'), 'LivingkidsM'),\n",
       " (dtype('O'), 'Boys'),\n",
       " (dtype('O'), 'Girls'),\n",
       " (dtype('O'), 'MedvitsM'),\n",
       " (dtype('O'), 'MedvitexplainM'),\n",
       " (dtype('O'), 'Urosurgeries'),\n",
       " (dtype('O'), 'Breastfeeding'),\n",
       " (dtype('O'), 'Method'),\n",
       " (dtype('O'), 'Prevmethod'),\n",
       " (dtype('O'), 'Methoddate'),\n",
       " (dtype('O'), 'Whychart'),\n",
       " (dtype('O'), 'Nextpreg'),\n",
       " (dtype('O'), 'NextpregM'),\n",
       " (dtype('O'), 'Spousesame'),\n",
       " (dtype('O'), 'SpousesameM'),\n",
       " (dtype('O'), 'Timeattemptpreg'),\n",
       " (dtype('O'), 'BMI')]"
      ]
     },
     "execution_count": 5,
     "metadata": {},
     "output_type": "execute_result"
    }
   ],
   "source": [
    "types = df.dtypes\n",
    "columns = df.columns\n",
    "\n",
    "list(zip(types, columns))"
   ]
  },
  {
   "cell_type": "markdown",
   "id": "70e6dce3-06ea-4449-8897-0b86d3dd52e4",
   "metadata": {},
   "source": [
    "## BMI\n",
    "There are lots of missing values in a form of empty string `\" \"`."
   ]
  },
  {
   "cell_type": "code",
   "execution_count": 6,
   "id": "af646a09-9e92-4a09-9df3-3c4063d8082a",
   "metadata": {},
   "outputs": [],
   "source": [
    "# Replace the empty string with NaN\n",
    "df['BMI'] = df['BMI'].replace(\" \", np.nan)\n",
    "df['BMI'] = df['BMI'].astype(float) # ValueError: could not convert string to float: ' '"
   ]
  },
  {
   "cell_type": "code",
   "execution_count": 7,
   "id": "526863f3-4b99-4ead-a0e5-3f0dabd0badf",
   "metadata": {},
   "outputs": [
    {
     "data": {
      "text/plain": [
       "0.9213213213213213"
      ]
     },
     "execution_count": 7,
     "metadata": {},
     "output_type": "execute_result"
    }
   ],
   "source": [
    "df.BMI.isnull().sum() / len(df)"
   ]
  },
  {
   "cell_type": "markdown",
   "id": "81ffebbb-481c-4290-a760-bb89007f992e",
   "metadata": {},
   "source": [
    "__92% null values in BMI column__\n",
    "\n"
   ]
  },
  {
   "cell_type": "markdown",
   "id": "c783e1e2-940e-4c46-840c-91123c81f58c",
   "metadata": {},
   "source": [
    "# Replace all the `\" \"` values with nan"
   ]
  },
  {
   "cell_type": "code",
   "execution_count": 8,
   "id": "11375d44-40d5-4090-abe5-fb84c7bb80ef",
   "metadata": {},
   "outputs": [],
   "source": [
    "df = df.replace(\" \", np.nan)"
   ]
  },
  {
   "cell_type": "code",
   "execution_count": 9,
   "id": "f27adbed-db8e-42b0-8d27-1c976d1c54a8",
   "metadata": {},
   "outputs": [
    {
     "name": "stdout",
     "output_type": "stream",
     "text": [
      "<class 'pandas.core.frame.DataFrame'>\n",
      "RangeIndex: 1665 entries, 0 to 1664\n",
      "Data columns (total 80 columns):\n",
      " #   Column                      Non-Null Count  Dtype  \n",
      "---  ------                      --------------  -----  \n",
      " 0   ClientID                    1665 non-null   object \n",
      " 1   CycleNumber                 1665 non-null   int64  \n",
      " 2   Group                       1665 non-null   int64  \n",
      " 3   CycleWithPeakorNot          1665 non-null   int64  \n",
      " 4   ReproductiveCategory        1665 non-null   int64  \n",
      " 5   LengthofCycle               1665 non-null   int64  \n",
      " 6   MeanCycleLength             141 non-null    object \n",
      " 7   EstimatedDayofOvulation     1515 non-null   object \n",
      " 8   LengthofLutealPhase         1514 non-null   object \n",
      " 9   FirstDayofHigh              1407 non-null   object \n",
      " 10  TotalNumberofHighDays       1653 non-null   object \n",
      " 11  TotalHighPostPeak           1662 non-null   object \n",
      " 12  TotalNumberofPeakDays       1649 non-null   object \n",
      " 13  TotalDaysofFertility        1634 non-null   object \n",
      " 14  TotalFertilityFormula       1663 non-null   object \n",
      " 15  LengthofMenses              1661 non-null   object \n",
      " 16  MeanMensesLength            141 non-null    object \n",
      " 17  MensesScoreDayOne           1661 non-null   object \n",
      " 18  MensesScoreDayTwo           1661 non-null   object \n",
      " 19  MensesScoreDayThree         1640 non-null   object \n",
      " 20  MensesScoreDayFour          1578 non-null   object \n",
      " 21  MensesScoreDayFive          1231 non-null   object \n",
      " 22  MensesScoreDaySix           603 non-null    object \n",
      " 23  MensesScoreDaySeven         224 non-null    object \n",
      " 24  MensesScoreDayEight         68 non-null     object \n",
      " 25  MensesScoreDayNine          26 non-null     object \n",
      " 26  MensesScoreDayTen           6 non-null      object \n",
      " 27  MensesScoreDay11            2 non-null      object \n",
      " 28  MensesScoreDay12            1 non-null      object \n",
      " 29  MensesScoreDay13            1 non-null      object \n",
      " 30  MensesScoreDay14            1 non-null      object \n",
      " 31  MensesScoreDay15            1 non-null      object \n",
      " 32  TotalMensesScore            1661 non-null   object \n",
      " 33  MeanBleedingIntensity       110 non-null    object \n",
      " 34  NumberofDaysofIntercourse   1664 non-null   object \n",
      " 35  IntercourseInFertileWindow  1664 non-null   object \n",
      " 36  UnusualBleeding             1645 non-null   object \n",
      " 37  PhasesBleeding              106 non-null    object \n",
      " 38  IntercourseDuringUnusBleed  82 non-null     object \n",
      " 39  Age                         142 non-null    object \n",
      " 40  AgeM                        142 non-null    object \n",
      " 41  Maristatus                  142 non-null    object \n",
      " 42  MaristatusM                 142 non-null    object \n",
      " 43  Yearsmarried                131 non-null    object \n",
      " 44  Wedding                     10 non-null     object \n",
      " 45  Religion                    142 non-null    object \n",
      " 46  ReligionM                   142 non-null    object \n",
      " 47  Ethnicity                   141 non-null    object \n",
      " 48  EthnicityM                  142 non-null    object \n",
      " 49  Schoolyears                 135 non-null    object \n",
      " 50  SchoolyearsM                134 non-null    object \n",
      " 51  OccupationM                 141 non-null    object \n",
      " 52  IncomeM                     139 non-null    object \n",
      " 53  Height                      133 non-null    object \n",
      " 54  Weight                      134 non-null    object \n",
      " 55  Reprocate                   142 non-null    object \n",
      " 56  Numberpreg                  142 non-null    object \n",
      " 57  Livingkids                  142 non-null    object \n",
      " 58  Miscarriages                139 non-null    object \n",
      " 59  Abortions                   139 non-null    object \n",
      " 60  Medvits                     142 non-null    object \n",
      " 61  Medvitexplain               106 non-null    object \n",
      " 62  Gynosurgeries               26 non-null     object \n",
      " 63  LivingkidsM                 80 non-null     object \n",
      " 64  Boys                        47 non-null     object \n",
      " 65  Girls                       43 non-null     object \n",
      " 66  MedvitsM                    139 non-null    object \n",
      " 67  MedvitexplainM              60 non-null     object \n",
      " 68  Urosurgeries                3 non-null      object \n",
      " 69  Breastfeeding               142 non-null    object \n",
      " 70  Method                      142 non-null    object \n",
      " 71  Prevmethod                  30 non-null     object \n",
      " 72  Methoddate                  32 non-null     object \n",
      " 73  Whychart                    142 non-null    object \n",
      " 74  Nextpreg                    142 non-null    object \n",
      " 75  NextpregM                   141 non-null    object \n",
      " 76  Spousesame                  142 non-null    object \n",
      " 77  SpousesameM                 142 non-null    object \n",
      " 78  Timeattemptpreg             142 non-null    object \n",
      " 79  BMI                         131 non-null    float64\n",
      "dtypes: float64(1), int64(5), object(74)\n",
      "memory usage: 1.0+ MB\n"
     ]
    }
   ],
   "source": [
    "df.info()"
   ]
  },
  {
   "cell_type": "markdown",
   "id": "093d7010-0217-4e0a-bb5c-96988435d60c",
   "metadata": {},
   "source": [
    "## List of feature which has missing values not more than 60%"
   ]
  },
  {
   "cell_type": "code",
   "execution_count": 10,
   "id": "959360a8-b230-4e80-8c27-3b09529ec18d",
   "metadata": {},
   "outputs": [
    {
     "data": {
      "text/plain": [
       "(1665, 26)"
      ]
     },
     "execution_count": 10,
     "metadata": {},
     "output_type": "execute_result"
    }
   ],
   "source": [
    "null_percentages = df.isnull().mean() * 100\n",
    "selected_features = null_percentages[null_percentages <= 90].index.tolist()\n",
    "selected_df = df[selected_features]\n",
    "selected_df.shape"
   ]
  },
  {
   "cell_type": "code",
   "execution_count": 11,
   "id": "dc5d8cba-a8da-4f71-8405-36eac690f7b4",
   "metadata": {},
   "outputs": [
    {
     "data": {
      "text/plain": [
       "ClientID                      0.000000\n",
       "CycleNumber                   0.000000\n",
       "Group                         0.000000\n",
       "CycleWithPeakorNot            0.000000\n",
       "ReproductiveCategory          0.000000\n",
       "LengthofCycle                 0.000000\n",
       "EstimatedDayofOvulation       0.090090\n",
       "LengthofLutealPhase           0.090691\n",
       "FirstDayofHigh                0.154955\n",
       "TotalNumberofHighDays         0.007207\n",
       "TotalHighPostPeak             0.001802\n",
       "TotalNumberofPeakDays         0.009610\n",
       "TotalDaysofFertility          0.018619\n",
       "TotalFertilityFormula         0.001201\n",
       "LengthofMenses                0.002402\n",
       "MensesScoreDayOne             0.002402\n",
       "MensesScoreDayTwo             0.002402\n",
       "MensesScoreDayThree           0.015015\n",
       "MensesScoreDayFour            0.052252\n",
       "MensesScoreDayFive            0.260661\n",
       "MensesScoreDaySix             0.637838\n",
       "MensesScoreDaySeven           0.865465\n",
       "TotalMensesScore              0.002402\n",
       "NumberofDaysofIntercourse     0.000601\n",
       "IntercourseInFertileWindow    0.000601\n",
       "UnusualBleeding               0.012012\n",
       "dtype: float64"
      ]
     },
     "execution_count": 11,
     "metadata": {},
     "output_type": "execute_result"
    }
   ],
   "source": [
    "selected_df.isnull().mean()"
   ]
  },
  {
   "cell_type": "code",
   "execution_count": 12,
   "id": "b2e2d4b5-3b16-4f85-b3f5-8fa67f32a386",
   "metadata": {},
   "outputs": [],
   "source": [
    "# Remove unnecessary column\n",
    "selected_df = selected_df.drop(\"ClientID\", axis=1)"
   ]
  },
  {
   "cell_type": "code",
   "execution_count": 13,
   "id": "e94f23d4-6fe1-490d-9e0b-af1559929dbe",
   "metadata": {},
   "outputs": [],
   "source": [
    "# Change the data type from object to float\n",
    "selected_df = selected_df.astype(\"float\")"
   ]
  },
  {
   "cell_type": "markdown",
   "id": "f8c4f852-9ccc-4e07-b278-fafa72f89cda",
   "metadata": {},
   "source": [
    "## Creating the class"
   ]
  },
  {
   "cell_type": "code",
   "execution_count": 14,
   "id": "5be0283b-8a15-4206-b52d-107ae41c552c",
   "metadata": {},
   "outputs": [],
   "source": [
    "selected_df['Healthy'] = (selected_df['LengthofCycle'] >= 21) & (selected_df['LengthofCycle'] <= 35)\n",
    "selected_df['Healthy'] = selected_df['Healthy'].replace({True: 1, False: 0})"
   ]
  },
  {
   "cell_type": "code",
   "execution_count": 15,
   "id": "284249e9-86e0-467c-8751-fef44897fbb2",
   "metadata": {},
   "outputs": [
    {
     "data": {
      "text/plain": [
       "(159, 1665, 32)"
      ]
     },
     "execution_count": 15,
     "metadata": {},
     "output_type": "execute_result"
    }
   ],
   "source": [
    "n_women = df['ClientID'].nunique()\n",
    "n_women, len(df), df['LengthofCycle'].nunique()"
   ]
  },
  {
   "cell_type": "code",
   "execution_count": 16,
   "id": "6f6c50c1-d3a4-4215-b8c6-1879c8175bb9",
   "metadata": {},
   "outputs": [
    {
     "data": {
      "text/plain": [
       "0"
      ]
     },
     "execution_count": 16,
     "metadata": {},
     "output_type": "execute_result"
    }
   ],
   "source": [
    "# Fill the missing values\n",
    "df_filled = selected_df.fillna(selected_df.mean())\n",
    "sum(df_filled.isnull().sum())"
   ]
  },
  {
   "cell_type": "code",
   "execution_count": 17,
   "id": "b19b0084-5bef-4d19-a0dd-8bd5c3b48551",
   "metadata": {},
   "outputs": [
    {
     "data": {
      "text/plain": [
       "Healthy\n",
       "1    0.926126\n",
       "0    0.073874\n",
       "Name: proportion, dtype: float64"
      ]
     },
     "execution_count": 17,
     "metadata": {},
     "output_type": "execute_result"
    }
   ],
   "source": [
    "df_filled.Healthy.value_counts(normalize=True)"
   ]
  },
  {
   "cell_type": "markdown",
   "id": "f4ee7252-b2a5-4ce4-bc3f-2adfdd2f4454",
   "metadata": {},
   "source": [
    "# Classification"
   ]
  },
  {
   "cell_type": "markdown",
   "id": "76cdb07f-228a-4279-aa22-3f7969202f64",
   "metadata": {},
   "source": [
    "## Train test split"
   ]
  },
  {
   "cell_type": "code",
   "execution_count": 18,
   "id": "85eec57d-946c-4c26-9144-2b1a710d855e",
   "metadata": {},
   "outputs": [],
   "source": [
    "from sklearn.model_selection import train_test_split\n",
    "\n",
    "X = df_filled.drop('Healthy', axis=1)\n",
    "y = df_filled['Healthy']\n",
    "\n",
    "X_train, X_test, y_train, y_test = train_test_split(X, y, test_size=0.2, stratify=y, random_state=42)"
   ]
  },
  {
   "cell_type": "markdown",
   "id": "85ff23f8-a2f7-480b-ad24-0afb9a5f5abe",
   "metadata": {},
   "source": [
    "### Percentage of each class in train and test set"
   ]
  },
  {
   "cell_type": "code",
   "execution_count": 19,
   "id": "662248d1-eb65-400e-8418-1ddadc45e6ac",
   "metadata": {},
   "outputs": [
    {
     "name": "stdout",
     "output_type": "stream",
     "text": [
      "Healthy\n",
      "1    0.926426\n",
      "0    0.073574\n",
      "Name: proportion, dtype: float64\n",
      "Healthy\n",
      "1    0.924925\n",
      "0    0.075075\n",
      "Name: proportion, dtype: float64\n"
     ]
    }
   ],
   "source": [
    "print(y_train.value_counts(normalize=True))\n",
    "print(y_test.value_counts(normalize=True))"
   ]
  },
  {
   "cell_type": "markdown",
   "id": "af3529d1-1013-4c1d-aa70-cb4f401e19a1",
   "metadata": {},
   "source": [
    "## Scaling"
   ]
  },
  {
   "cell_type": "code",
   "execution_count": 20,
   "id": "23829831-440c-49cd-a377-59d2bb6ed85b",
   "metadata": {},
   "outputs": [],
   "source": [
    "scaler = StandardScaler()\n",
    "X_train = scaler.fit_transform(X_train)\n",
    "X_test = scaler.transform(X_test)"
   ]
  },
  {
   "cell_type": "markdown",
   "id": "934391d7-b055-490a-980b-e859aebb7d7c",
   "metadata": {},
   "source": [
    "# __Logistic Regression__"
   ]
  },
  {
   "cell_type": "code",
   "execution_count": 21,
   "id": "bed2b0f6-7650-4ba4-b248-da0cbbb1152f",
   "metadata": {},
   "outputs": [
    {
     "name": "stdout",
     "output_type": "stream",
     "text": [
      "Accuracy: 0.9819819819819819\n",
      "AUC Score: 0.88\n",
      "F1 Score: 0.9903536977491961\n",
      "Classification Report:\n",
      "              precision    recall  f1-score   support\n",
      "\n",
      "           0       1.00      0.76      0.86        25\n",
      "           1       0.98      1.00      0.99       308\n",
      "\n",
      "    accuracy                           0.98       333\n",
      "   macro avg       0.99      0.88      0.93       333\n",
      "weighted avg       0.98      0.98      0.98       333\n",
      "\n"
     ]
    }
   ],
   "source": [
    "from sklearn.ensemble import RandomForestClassifier\n",
    "from sklearn.svm import SVC\n",
    "from sklearn.linear_model import LogisticRegression\n",
    "from sklearn.metrics import accuracy_score, roc_auc_score\n",
    "from sklearn.metrics import f1_score, classification_report\n",
    "\n",
    "rf_classifier = LogisticRegression(random_state=42)\n",
    "rf_classifier.fit(X_train, y_train)\n",
    "y_pred = rf_classifier.predict(X_test)\n",
    "evaluate_classifier(y_test, y_pred) "
   ]
  },
  {
   "cell_type": "code",
   "execution_count": 22,
   "id": "a840879e-d12a-47b7-b0d3-824c5b5d32a1",
   "metadata": {},
   "outputs": [
    {
     "data": {
      "image/png": "[encoded data removed]",
      "text/plain": [
       "<Figure size 800x600 with 1 Axes>"
      ]
     },
     "metadata": {},
     "output_type": "display_data"
    }
   ],
   "source": [
    "y_pred_prob = rf_classifier.predict(X_test)\n",
    "plot_roc_curve(y_test, y_pred_prob)"
   ]
  },
  {
   "cell_type": "code",
   "execution_count": 23,
   "id": "3279e1ad-2258-4c0b-9ec2-058337025252",
   "metadata": {},
   "outputs": [
    {
     "data": {
      "image/png": "[encoded data removed]",
      "text/plain": [
       "<Figure size 640x480 with 1 Axes>"
      ]
     },
     "metadata": {},
     "output_type": "display_data"
    }
   ],
   "source": [
    "plot_learning_curve(rf_classifier, \"Learning Curve\", X_train, y_train, cv=5)"
   ]
  },
  {
   "cell_type": "markdown",
   "id": "12d91297-dee7-4ab9-add5-c77faf3883b5",
   "metadata": {},
   "source": [
    "# __TabNet__"
   ]
  },
  {
   "cell_type": "code",
   "execution_count": 24,
   "id": "02f7a71d-ed6d-4865-94ae-1c9c9ca5803f",
   "metadata": {
    "scrolled": true
   },
   "outputs": [
    {
     "name": "stdout",
     "output_type": "stream",
     "text": [
      "epoch 0  | loss: 0.90622 | val_0_auc: 0.69753 |  0:00:00s\n",
      "epoch 1  | loss: 0.70472 | val_0_auc: 0.59143 |  0:00:00s\n",
      "epoch 2  | loss: 0.55624 | val_0_auc: 0.64844 |  0:00:00s\n",
      "epoch 3  | loss: 0.47309 | val_0_auc: 0.6687  |  0:00:00s\n",
      "epoch 4  | loss: 0.39432 | val_0_auc: 0.69792 |  0:00:00s\n",
      "epoch 5  | loss: 0.33317 | val_0_auc: 0.58727 |  0:00:00s\n",
      "epoch 6  | loss: 0.29663 | val_0_auc: 0.57571 |  0:00:00s\n",
      "epoch 7  | loss: 0.29036 | val_0_auc: 0.61325 |  0:00:00s\n",
      "epoch 8  | loss: 0.28301 | val_0_auc: 0.63844 |  0:00:00s\n",
      "epoch 9  | loss: 0.25904 | val_0_auc: 0.67442 |  0:00:00s\n",
      "epoch 10 | loss: 0.20504 | val_0_auc: 0.72117 |  0:00:00s\n",
      "epoch 11 | loss: 0.25349 | val_0_auc: 0.75377 |  0:00:00s\n",
      "epoch 12 | loss: 0.20536 | val_0_auc: 0.77377 |  0:00:00s\n",
      "epoch 13 | loss: 0.20458 | val_0_auc: 0.80494 |  0:00:01s\n",
      "epoch 14 | loss: 0.20254 | val_0_auc: 0.84818 |  0:00:01s\n",
      "epoch 15 | loss: 0.17061 | val_0_auc: 0.87    |  0:00:01s\n",
      "epoch 16 | loss: 0.17355 | val_0_auc: 0.86143 |  0:00:01s\n",
      "epoch 17 | loss: 0.17468 | val_0_auc: 0.85896 |  0:00:01s\n",
      "epoch 18 | loss: 0.15796 | val_0_auc: 0.88234 |  0:00:01s\n",
      "epoch 19 | loss: 0.151   | val_0_auc: 0.88701 |  0:00:01s\n",
      "epoch 20 | loss: 0.15867 | val_0_auc: 0.88519 |  0:00:01s\n",
      "epoch 21 | loss: 0.14976 | val_0_auc: 0.89052 |  0:00:01s\n",
      "epoch 22 | loss: 0.15364 | val_0_auc: 0.9187  |  0:00:01s\n",
      "epoch 23 | loss: 0.15238 | val_0_auc: 0.91662 |  0:00:01s\n",
      "epoch 24 | loss: 0.13184 | val_0_auc: 0.91429 |  0:00:01s\n",
      "epoch 25 | loss: 0.14262 | val_0_auc: 0.91818 |  0:00:01s\n",
      "epoch 26 | loss: 0.1307  | val_0_auc: 0.9213  |  0:00:02s\n",
      "epoch 27 | loss: 0.09872 | val_0_auc: 0.93753 |  0:00:02s\n",
      "epoch 28 | loss: 0.12026 | val_0_auc: 0.94234 |  0:00:02s\n",
      "epoch 29 | loss: 0.11798 | val_0_auc: 0.94688 |  0:00:02s\n",
      "epoch 30 | loss: 0.09036 | val_0_auc: 0.94857 |  0:00:02s\n",
      "epoch 31 | loss: 0.09404 | val_0_auc: 0.93468 |  0:00:02s\n",
      "epoch 32 | loss: 0.10071 | val_0_auc: 0.93143 |  0:00:02s\n",
      "epoch 33 | loss: 0.08895 | val_0_auc: 0.94078 |  0:00:02s\n",
      "epoch 34 | loss: 0.0919  | val_0_auc: 0.94468 |  0:00:02s\n",
      "epoch 35 | loss: 0.08871 | val_0_auc: 0.95078 |  0:00:02s\n",
      "epoch 36 | loss: 0.08915 | val_0_auc: 0.9239  |  0:00:02s\n",
      "epoch 37 | loss: 0.07536 | val_0_auc: 0.92273 |  0:00:02s\n",
      "epoch 38 | loss: 0.08206 | val_0_auc: 0.94597 |  0:00:02s\n",
      "epoch 39 | loss: 0.07166 | val_0_auc: 0.94935 |  0:00:02s\n",
      "epoch 40 | loss: 0.06552 | val_0_auc: 0.9526  |  0:00:03s\n",
      "epoch 41 | loss: 0.0691  | val_0_auc: 0.91532 |  0:00:03s\n",
      "epoch 42 | loss: 0.06874 | val_0_auc: 0.95818 |  0:00:03s\n",
      "epoch 43 | loss: 0.07232 | val_0_auc: 0.95974 |  0:00:03s\n",
      "epoch 44 | loss: 0.05381 | val_0_auc: 0.96065 |  0:00:03s\n",
      "epoch 45 | loss: 0.0501  | val_0_auc: 0.95935 |  0:00:03s\n",
      "epoch 46 | loss: 0.06076 | val_0_auc: 0.96104 |  0:00:03s\n",
      "epoch 47 | loss: 0.06812 | val_0_auc: 0.96052 |  0:00:03s\n",
      "epoch 48 | loss: 0.06518 | val_0_auc: 0.9613  |  0:00:03s\n",
      "epoch 49 | loss: 0.06741 | val_0_auc: 0.96091 |  0:00:03s\n",
      "epoch 50 | loss: 0.05109 | val_0_auc: 0.96247 |  0:00:03s\n",
      "epoch 51 | loss: 0.04402 | val_0_auc: 0.96299 |  0:00:03s\n",
      "epoch 52 | loss: 0.054   | val_0_auc: 0.96273 |  0:00:03s\n",
      "epoch 53 | loss: 0.05743 | val_0_auc: 0.96234 |  0:00:04s\n",
      "epoch 54 | loss: 0.04908 | val_0_auc: 0.96143 |  0:00:04s\n",
      "epoch 55 | loss: 0.04651 | val_0_auc: 0.96234 |  0:00:04s\n",
      "epoch 56 | loss: 0.04922 | val_0_auc: 0.96182 |  0:00:04s\n",
      "epoch 57 | loss: 0.04236 | val_0_auc: 0.96143 |  0:00:04s\n",
      "epoch 58 | loss: 0.05068 | val_0_auc: 0.96104 |  0:00:04s\n",
      "epoch 59 | loss: 0.05403 | val_0_auc: 0.96065 |  0:00:04s\n",
      "epoch 60 | loss: 0.04258 | val_0_auc: 0.96039 |  0:00:04s\n",
      "epoch 61 | loss: 0.06464 | val_0_auc: 0.96299 |  0:00:04s\n",
      "epoch 62 | loss: 0.0492  | val_0_auc: 0.96519 |  0:00:04s\n",
      "epoch 63 | loss: 0.0436  | val_0_auc: 0.96545 |  0:00:04s\n",
      "epoch 64 | loss: 0.04082 | val_0_auc: 0.9726  |  0:00:04s\n",
      "epoch 65 | loss: 0.03838 | val_0_auc: 0.96987 |  0:00:04s\n",
      "epoch 66 | loss: 0.03576 | val_0_auc: 0.96961 |  0:00:04s\n",
      "epoch 67 | loss: 0.04691 | val_0_auc: 0.96896 |  0:00:05s\n",
      "epoch 68 | loss: 0.03159 | val_0_auc: 0.97117 |  0:00:05s\n",
      "epoch 69 | loss: 0.04197 | val_0_auc: 0.97104 |  0:00:05s\n",
      "epoch 70 | loss: 0.02915 | val_0_auc: 0.96273 |  0:00:05s\n",
      "epoch 71 | loss: 0.03361 | val_0_auc: 0.96026 |  0:00:05s\n",
      "epoch 72 | loss: 0.03449 | val_0_auc: 0.95929 |  0:00:05s\n",
      "epoch 73 | loss: 0.03432 | val_0_auc: 0.95883 |  0:00:05s\n",
      "epoch 74 | loss: 0.03661 | val_0_auc: 0.95922 |  0:00:05s\n",
      "\n",
      "Early stopping occurred at epoch 74 with best_epoch = 64 and best_val_0_auc = 0.9726\n"
     ]
    }
   ],
   "source": [
    "from pytorch_tabnet.tab_model import TabNetClassifier\n",
    "\n",
    "clf_tabnet = TabNetClassifier()\n",
    "clf_tabnet.fit(\n",
    "  X_train, y_train,\n",
    "  eval_set=[(X_test, y_test)],\n",
    "  eval_metric=['auc']\n",
    ")"
   ]
  },
  {
   "cell_type": "code",
   "execution_count": 25,
   "id": "fc9aee5e-d24c-4e68-915c-6754da766012",
   "metadata": {},
   "outputs": [],
   "source": [
    "y_pred = clf_tabnet.predict(X_test)"
   ]
  },
  {
   "cell_type": "code",
   "execution_count": 26,
   "id": "08eccaf3-16e8-49be-b9c4-16dca6a78164",
   "metadata": {},
   "outputs": [
    {
     "name": "stdout",
     "output_type": "stream",
     "text": [
      "Accuracy: 0.978978978978979\n",
      "AUC Score: 0.91512987012987\n",
      "F1 Score: 0.9886547811993517\n",
      "Classification Report:\n",
      "              precision    recall  f1-score   support\n",
      "\n",
      "           0       0.88      0.84      0.86        25\n",
      "           1       0.99      0.99      0.99       308\n",
      "\n",
      "    accuracy                           0.98       333\n",
      "   macro avg       0.93      0.92      0.92       333\n",
      "weighted avg       0.98      0.98      0.98       333\n",
      "\n"
     ]
    }
   ],
   "source": [
    "evaluate_classifier(y_test, y_pred) "
   ]
  },
  {
   "cell_type": "code",
   "execution_count": 27,
   "id": "6060f270-5a9e-4636-a910-77b014ca3d45",
   "metadata": {},
   "outputs": [
    {
     "data": {
      "image/png": "[encoded data removed]",
      "text/plain": [
       "<Figure size 800x600 with 1 Axes>"
      ]
     },
     "metadata": {},
     "output_type": "display_data"
    }
   ],
   "source": [
    "plot_roc_curve(y_test, y_pred)"
   ]
  }
 ],
 "metadata": {
  "kernelspec": {
   "display_name": "Python 3 (ipykernel)",
   "language": "python",
   "name": "python3"
  },
  "language_info": {
   "codemirror_mode": {
    "name": "ipython",
    "version": 3
   },
   "file_extension": ".py",
   "mimetype": "text/x-python",
   "name": "python",
   "nbconvert_exporter": "python",
   "pygments_lexer": "ipython3",
   "version": "3.11.0"
  }
 },
 "nbformat": 4,
 "nbformat_minor": 5
}
