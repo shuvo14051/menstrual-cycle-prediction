{
 "cells": [
  {
   "cell_type": "code",
   "execution_count": 16,
   "id": "c11de294-ba9b-4a3d-b54f-87b250461556",
   "metadata": {},
   "outputs": [],
   "source": [
    "import os\n",
    "import numpy as np\n",
    "import pandas as pd\n",
    "import seaborn as sns\n",
    "import matplotlib.cm as cm\n",
    "import matplotlib.pyplot as plt\n",
    "from sklearn.preprocessing import StandardScaler\n",
    "from sklearn import metrics\n",
    "import warnings\n",
    "warnings.filterwarnings('ignore')\n",
    "warnings.filterwarnings(\"ignore\", message=\"subprocess.run\")\n",
    "\n",
    "%run utility_functions.ipynb"
   ]
  },
  {
   "cell_type": "code",
   "execution_count": 17,
   "id": "be3fea60-6a19-40a7-ba91-a821f64cc064",
   "metadata": {},
   "outputs": [
    {
     "data": {
      "text/plain": [
       "(1547, 25)"
      ]
     },
     "execution_count": 17,
     "metadata": {},
     "output_type": "execute_result"
    }
   ],
   "source": [
    "df_original = pd.read_csv(\"data/Original_Preprocessed_data.csv\")\n",
    "df_original.shape"
   ]
  },
  {
   "cell_type": "markdown",
   "id": "575c52f2-a9ef-4c40-843b-0737a59ca145",
   "metadata": {},
   "source": [
    "# Train test split"
   ]
  },
  {
   "cell_type": "code",
   "execution_count": 24,
   "id": "76842a85-6502-4e3f-be51-2f96f96a3772",
   "metadata": {},
   "outputs": [],
   "source": [
    "from sklearn.model_selection import train_test_split\n",
    "\n",
    "X = df_original.drop('Healthy', axis=1)\n",
    "y = df_original['Healthy']\n",
    "\n",
    "X_train, X_test, y_train, y_test = train_test_split(X, y, test_size=0.35, stratify=y, random_state=42)"
   ]
  },
  {
   "cell_type": "code",
   "execution_count": 25,
   "id": "e67cf9de-c6c5-402e-b475-0584c4d0479b",
   "metadata": {},
   "outputs": [
    {
     "data": {
      "text/plain": [
       "(1005, 24)"
      ]
     },
     "execution_count": 25,
     "metadata": {},
     "output_type": "execute_result"
    }
   ],
   "source": [
    "X_train.shape"
   ]
  },
  {
   "cell_type": "code",
   "execution_count": 26,
   "id": "586993b9-2168-4a6c-9934-2b631d54ff73",
   "metadata": {},
   "outputs": [
    {
     "data": {
      "text/plain": [
       "Healthy\n",
       "1    961\n",
       "0     44\n",
       "Name: count, dtype: int64"
      ]
     },
     "execution_count": 26,
     "metadata": {},
     "output_type": "execute_result"
    }
   ],
   "source": [
    "y_train.value_counts()"
   ]
  },
  {
   "cell_type": "markdown",
   "id": "925a7a3d-0b01-47ad-b2bc-b0241df8c5ec",
   "metadata": {},
   "source": [
    "# SMOTE"
   ]
  },
  {
   "cell_type": "code",
   "execution_count": 27,
   "id": "d3f9d456-31d5-44ef-b47c-b394a60b6217",
   "metadata": {},
   "outputs": [],
   "source": [
    "# from imblearn.over_sampling import SMOTE\n",
    "\n",
    "# smote = SMOTE(random_state=42)\n",
    "\n",
    "# # Upsample the minority class\n",
    "# X_train, y_train = smote.fit_resample(X_train, y_train)"
   ]
  },
  {
   "cell_type": "code",
   "execution_count": 28,
   "id": "ac4b390d-1bf7-42e3-bbe1-40cdf8dfa00d",
   "metadata": {},
   "outputs": [],
   "source": [
    "# X_test.to_csv(\"X_test.csv\", index=None)\n",
    "# y_test.to_csv(\"y_test.csv\", index=None)"
   ]
  },
  {
   "cell_type": "markdown",
   "id": "6bf58b57-7c1d-48f5-992e-e3740d12f4af",
   "metadata": {},
   "source": [
    "# Scaling"
   ]
  },
  {
   "cell_type": "code",
   "execution_count": 29,
   "id": "7e72fe97-a3a9-48fb-afaa-a09f9243031a",
   "metadata": {},
   "outputs": [],
   "source": [
    "scaler = StandardScaler()\n",
    "X_train = scaler.fit_transform(X_train)\n",
    "X_test = scaler.transform(X_test)"
   ]
  },
  {
   "cell_type": "markdown",
   "id": "ddde80c8-fcad-4faf-bf5a-f4b3b77f6998",
   "metadata": {},
   "source": [
    "# Logistic Regression"
   ]
  },
  {
   "cell_type": "code",
   "execution_count": 30,
   "id": "db09ce7e-1320-4369-bac2-eedca22ea9c2",
   "metadata": {},
   "outputs": [
    {
     "name": "stdout",
     "output_type": "stream",
     "text": [
      "============================= Test result ===========================\n",
      "Accuracy: 0.985239852398524\n",
      "AUC Score: 0.8468626958197202\n",
      "F1 Score: 0.9923371647509579\n",
      "Specificity: 0.6956521739130435\n",
      "Sensitivity: 0.9980732177263969\n",
      "Classification Report:\n",
      "              precision    recall  f1-score   support\n",
      "\n",
      "           0       0.94      0.70      0.80        23\n",
      "           1       0.99      1.00      0.99       519\n",
      "\n",
      "    accuracy                           0.99       542\n",
      "   macro avg       0.96      0.85      0.90       542\n",
      "weighted avg       0.98      0.99      0.98       542\n",
      "\n"
     ]
    }
   ],
   "source": [
    "from sklearn.linear_model import LogisticRegression\n",
    "from sklearn.metrics import accuracy_score, roc_auc_score\n",
    "from sklearn.metrics import f1_score, classification_report\n",
    "\n",
    "rf_classifier = LogisticRegression(random_state=42)\n",
    "rf_classifier.fit(X_train, y_train)\n",
    "print(\"============================= Test result ===========================\")\n",
    "y_pred = rf_classifier.predict(X_test)\n",
    "evaluate_classifier(y_test, y_pred) "
   ]
  },
  {
   "cell_type": "markdown",
   "id": "ce2b7972-fe98-4a9b-989e-fafcb35337bb",
   "metadata": {},
   "source": [
    "# RandomForest"
   ]
  },
  {
   "cell_type": "code",
   "execution_count": 31,
   "id": "0768cd1b-e334-4d54-8101-c4a535703005",
   "metadata": {},
   "outputs": [
    {
     "name": "stdout",
     "output_type": "stream",
     "text": [
      "============================= Test result ===========================\n",
      "Accuracy: 0.9981549815498155\n",
      "AUC Score: 0.9782608695652174\n",
      "F1 Score: 0.9990375360923965\n",
      "Specificity: 0.9565217391304348\n",
      "Sensitivity: 1.0\n",
      "Classification Report:\n",
      "              precision    recall  f1-score   support\n",
      "\n",
      "           0       1.00      0.96      0.98        23\n",
      "           1       1.00      1.00      1.00       519\n",
      "\n",
      "    accuracy                           1.00       542\n",
      "   macro avg       1.00      0.98      0.99       542\n",
      "weighted avg       1.00      1.00      1.00       542\n",
      "\n"
     ]
    }
   ],
   "source": [
    "from sklearn.ensemble import RandomForestClassifier\n",
    "\n",
    "clf_random = RandomForestClassifier(n_estimators=300, random_state=42)\n",
    "clf_random.fit(X_train, y_train)\n",
    "\n",
    "print(\"============================= Test result ===========================\")\n",
    "y_pred = clf_random.predict(X_test)\n",
    "evaluate_classifier(y_test, y_pred) "
   ]
  },
  {
   "cell_type": "code",
   "execution_count": 38,
   "id": "bd7b13d2-821c-4362-99ea-e7f51ad66b7b",
   "metadata": {
    "scrolled": true
   },
   "outputs": [
    {
     "name": "stderr",
     "output_type": "stream",
     "text": [
      "C:\\Users\\younu\\AppData\\Local\\Programs\\Python\\Python311\\Lib\\site-packages\\pytorch_tabnet\\abstract_model.py:82: UserWarning: Device used : cpu\n",
      "  warnings.warn(f\"Device used : {self.device}\")\n"
     ]
    },
    {
     "name": "stdout",
     "output_type": "stream",
     "text": [
      "epoch 0  | loss: 0.0     | val_0_auc: 0.42971 |  0:00:00s\n",
      "epoch 1  | loss: 0.0     | val_0_auc: 0.42971 |  0:00:00s\n",
      "epoch 2  | loss: 0.0     | val_0_auc: 0.42971 |  0:00:00s\n",
      "epoch 3  | loss: 0.0     | val_0_auc: 0.42971 |  0:00:00s\n",
      "epoch 4  | loss: 0.0     | val_0_auc: 0.42971 |  0:00:00s\n",
      "epoch 5  | loss: 0.0     | val_0_auc: 0.42971 |  0:00:00s\n",
      "epoch 6  | loss: 0.0     | val_0_auc: 0.42971 |  0:00:00s\n",
      "epoch 7  | loss: 0.0     | val_0_auc: 0.42971 |  0:00:00s\n",
      "epoch 8  | loss: 0.0     | val_0_auc: 0.42971 |  0:00:00s\n",
      "epoch 9  | loss: 0.0     | val_0_auc: 0.42971 |  0:00:00s\n",
      "epoch 10 | loss: 0.0     | val_0_auc: 0.42971 |  0:00:00s\n",
      "\n",
      "Early stopping occurred at epoch 10 with best_epoch = 0 and best_val_0_auc = 0.42971\n",
      "Accuracy: 0.6512915129151291\n",
      "AUC Score: 0.4231800284828684\n",
      "F1 Score: 0.7869222096956031\n",
      "Specificity: 0.17391304347826086\n",
      "Sensitivity: 0.6724470134874759\n",
      "Classification Report:\n",
      "              precision    recall  f1-score   support\n",
      "\n",
      "           0       0.02      0.17      0.04        23\n",
      "           1       0.95      0.67      0.79       519\n",
      "\n",
      "    accuracy                           0.65       542\n",
      "   macro avg       0.49      0.42      0.41       542\n",
      "weighted avg       0.91      0.65      0.76       542\n",
      "\n"
     ]
    },
    {
     "name": "stderr",
     "output_type": "stream",
     "text": [
      "C:\\Users\\younu\\AppData\\Local\\Programs\\Python\\Python311\\Lib\\site-packages\\pytorch_tabnet\\callbacks.py:172: UserWarning: Best weights from best epoch are automatically used!\n",
      "  warnings.warn(wrn_msg)\n"
     ]
    }
   ],
   "source": [
    "from pytorch_tabnet.tab_model import TabNetClassifier\n",
    "\n",
    "clf_tabnet = TabNetClassifier()\n",
    "clf_tabnet.fit(\n",
    "  X_train, y_train,\n",
    "  eval_set=[(X_test, y_test)],\n",
    "  eval_metric=['auc']\n",
    ")\n",
    "\n",
    "y_pred = clf_tabnet.predict(X_test)\n",
    "evaluate_classifier(y_test, y_pred) "
   ]
  },
  {
   "cell_type": "code",
   "execution_count": 34,
   "id": "4f103638-531b-46e6-88e6-40945bc08b55",
   "metadata": {},
   "outputs": [
    {
     "name": "stdout",
     "output_type": "stream",
     "text": [
      "Accuracy: 1.0\n",
      "AUC Score: 1.0\n",
      "F1 Score: 1.0\n",
      "Specificity: 1.0\n",
      "Sensitivity: 1.0\n",
      "Classification Report:\n",
      "              precision    recall  f1-score   support\n",
      "\n",
      "           0       1.00      1.00      1.00        23\n",
      "           1       1.00      1.00      1.00       519\n",
      "\n",
      "    accuracy                           1.00       542\n",
      "   macro avg       1.00      1.00      1.00       542\n",
      "weighted avg       1.00      1.00      1.00       542\n",
      "\n"
     ]
    }
   ],
   "source": [
    "from sklearn.tree import DecisionTreeClassifier\n",
    "\n",
    "clf = DecisionTreeClassifier()\n",
    "clf.fit(X_train, y_train)\n",
    "y_pred = clf.predict(X_test)\n",
    "evaluate_classifier(y_test, y_pred) "
   ]
  },
  {
   "cell_type": "markdown",
   "id": "ad226167-58ca-44ed-a78a-a5d6804a4269",
   "metadata": {},
   "source": [
    "## TabFPN"
   ]
  },
  {
   "cell_type": "code",
   "execution_count": 35,
   "id": "e085faa8-4991-41bd-b50b-b9de2e0d098d",
   "metadata": {},
   "outputs": [
    {
     "name": "stderr",
     "output_type": "stream",
     "text": [
      "C:\\Users\\younu\\AppData\\Local\\Programs\\Python\\Python311\\Lib\\site-packages\\torch\\utils\\checkpoint.py:464: UserWarning: torch.utils.checkpoint: the use_reentrant parameter should be passed explicitly. In version 2.4 we will raise an exception if use_reentrant is not passed. use_reentrant=False is recommended, but if you need to preserve the current default behavior, you can pass use_reentrant=True. Refer to docs for more details on the differences between the two variants.\n",
      "  warnings.warn(\n"
     ]
    }
   ],
   "source": [
    "from tabpfn import TabPFNClassifier\n",
    "\n",
    "classifier = TabPFNClassifier(device='cpu', N_ensemble_configurations=32)\n",
    "\n",
    "classifier.fit(X_train, y_train)\n",
    "y_pred, p_eval = classifier.predict(X_test, return_winning_probability=True)"
   ]
  },
  {
   "cell_type": "code",
   "execution_count": 37,
   "id": "c9987706-ada8-489c-b694-a97a407eac9c",
   "metadata": {},
   "outputs": [
    {
     "name": "stderr",
     "output_type": "stream",
     "text": [
      "C:\\Users\\younu\\AppData\\Local\\Programs\\Python\\Python311\\Lib\\site-packages\\torch\\utils\\checkpoint.py:464: UserWarning: torch.utils.checkpoint: the use_reentrant parameter should be passed explicitly. In version 2.4 we will raise an exception if use_reentrant is not passed. use_reentrant=False is recommended, but if you need to preserve the current default behavior, you can pass use_reentrant=True. Refer to docs for more details on the differences between the two variants.\n",
      "  warnings.warn(\n"
     ]
    },
    {
     "name": "stdout",
     "output_type": "stream",
     "text": [
      "Accuracy: 0.9870848708487084\n",
      "AUC Score: 0.8686018262545028\n",
      "F1 Score: 0.9932885906040269\n",
      "Specificity: 0.7391304347826086\n",
      "Sensitivity: 0.9980732177263969\n",
      "Classification Report:\n",
      "              precision    recall  f1-score   support\n",
      "\n",
      "           0       0.94      0.74      0.83        23\n",
      "           1       0.99      1.00      0.99       519\n",
      "\n",
      "    accuracy                           0.99       542\n",
      "   macro avg       0.97      0.87      0.91       542\n",
      "weighted avg       0.99      0.99      0.99       542\n",
      "\n"
     ]
    }
   ],
   "source": [
    "y_pred = classifier.predict(X_test)\n",
    "evaluate_classifier(y_test, y_pred) "
   ]
  },
  {
   "cell_type": "code",
   "execution_count": null,
   "id": "e53d49fc-c0aa-4596-8afc-e6d60db223cd",
   "metadata": {},
   "outputs": [],
   "source": []
  }
 ],
 "metadata": {
  "kernelspec": {
   "display_name": "Python 3 (ipykernel)",
   "language": "python",
   "name": "python3"
  },
  "language_info": {
   "codemirror_mode": {
    "name": "ipython",
    "version": 3
   },
   "file_extension": ".py",
   "mimetype": "text/x-python",
   "name": "python",
   "nbconvert_exporter": "python",
   "pygments_lexer": "ipython3",
   "version": "3.11.0"
  }
 },
 "nbformat": 4,
 "nbformat_minor": 5
}
